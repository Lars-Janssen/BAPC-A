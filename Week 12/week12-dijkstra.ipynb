{
 "cells": [
  {
   "cell_type": "markdown",
   "metadata": {},
   "source": [
    "Before you turn this problem in, make sure everything runs as expected. First, **restart the kernel** (in the menubar, select Kernel$\\rightarrow$Restart) and then **run all cells** (in the menubar, select Cell$\\rightarrow$Run All).\n",
    "\n",
    "Make sure you fill in any place that says `YOUR CODE HERE` or \"YOUR ANSWER HERE\", as well as your name and collaborators below:"
   ]
  },
  {
   "cell_type": "code",
   "execution_count": 1,
   "metadata": {},
   "outputs": [],
   "source": [
    "NAME = \"Lars Janssen\""
   ]
  },
  {
   "cell_type": "markdown",
   "metadata": {},
   "source": [
    "---"
   ]
  },
  {
   "cell_type": "markdown",
   "metadata": {},
   "source": [
    "For those not familiar with Python, a quick overview is given [here](https://github.com/palcu/python-for-competitive-programming/blob/master/python-for-competitive-programming.ipynb)."
   ]
  },
  {
   "cell_type": "markdown",
   "metadata": {},
   "source": [
    "# Week 12 - Dijkstra\n",
    "\n",
    "## Implementation\n",
    "Dijkstra's algorithm is a way to find the shortest paths from a 'source' to all other vertices (or a specific target vertex). The algorithm works for _directed_ and _undirected_ graphs, where the edges have a specific weight. Let's consider the following graph:\n",
    "\n",
    "![Image of Yaktocat](https://cdncontribute.geeksforgeeks.org/wp-content/uploads/dijikstra.png)\n",
    "\n",
    "The code below gives an implementation of Dijkstra, using a priorty queue to find the currenty closest vertex ([this pseudocode](https://en.wikipedia.org/wiki/Dijkstra%27s_algorithm#Using_a_priority_queue)). Here\n",
    "we used an adjacency list representation of this graph: we store an edge as a pair $(v, w)$ where $v$ is the connecting vertex, and $w$ is the weight."
   ]
  },
  {
   "cell_type": "code",
   "execution_count": 2,
   "metadata": {},
   "outputs": [
    {
     "name": "stdout",
     "output_type": "stream",
     "text": [
      "Dist from 0 to 0 is 0\n",
      "Dist from 0 to 1 is 4\n",
      "Dist from 0 to 2 is 12\n",
      "Dist from 0 to 3 is 19\n",
      "Dist from 0 to 4 is 21\n",
      "Dist from 0 to 5 is 11\n",
      "Dist from 0 to 6 is 9\n",
      "Dist from 0 to 7 is 8\n",
      "Dist from 0 to 8 is 14\n"
     ]
    }
   ],
   "source": [
    "from heapq import heappush, heappop\n",
    "\n",
    "# Adjacency list of the graph above, an edge is described by the \n",
    "# pair (v, w) -- the other vertex, weight of the edge.\n",
    "adj = [[(1, 4), (7, 8)], \n",
    "       [(0, 4), (7, 11), (2, 8)], \n",
    "       [(1, 8), (3, 7), (5, 4), (8, 2)], \n",
    "       [(2, 7), (4, 9), (5, 14)], \n",
    "       [(3, 9), (5, 10)], \n",
    "       [(2, 4), (3, 14), (4, 10), (6, 2)], \n",
    "       [(5, 2), (8, 6), (7, 1)], \n",
    "       [(0, 8), (1, 11), (6, 1), (8, 7)], \n",
    "       [(2, 2), (6, 6), (7, 7)]]\n",
    "n = len(adj)\n",
    "\n",
    "# Initialize the distance to every vertex to `infinite`.\n",
    "dist = [10**10 for _ in range(n)]\n",
    "\n",
    "# Recall that a priority queue is just a list in Python.\n",
    "Q = []\n",
    "\n",
    "# Initialize the PQ with source.\n",
    "source = 0\n",
    "# We are going to put pairs (distance, node) on the priority queue:\n",
    "# this ensures that the node with lowest distance is popped first.\n",
    "heappush(Q, (0, source))\n",
    "dist[source] = 0 \n",
    "\n",
    "while len(Q):\n",
    "    dist_u, u = heappop(Q) # Retrieve node with tot dist d.\n",
    "    \n",
    "    if dist[u] < dist_u: # We've already handled this node with lower distance.\n",
    "        continue\n",
    "    \n",
    "    for v, w in adj[u]:\n",
    "        # Relaxing the distance:\n",
    "        if dist[v] > dist[u] + w:\n",
    "            dist[v] = dist[u] + w\n",
    "            heappush(Q, (dist[v], v))\n",
    "\n",
    "for u in range(n):\n",
    "    print('Dist from {} to {} is {}'.format(source, u, dist[u]))"
   ]
  },
  {
   "cell_type": "markdown",
   "metadata": {},
   "source": [
    "## Excercise 1: Single-Source Shortest Path\n",
    "The above code does not calculate the shortest _path_, only its length. Below, write a function which takes a graph and two nodes, and outputs the shortest path between those nodes as a list."
   ]
  },
  {
   "cell_type": "code",
   "execution_count": 50,
   "metadata": {
    "deletable": false,
    "nbgrader": {
     "cell_type": "code",
     "checksum": "b41e64786136e432275b698f3b85200b",
     "grade": false,
     "grade_id": "cell-0301eeae1625fdf2",
     "locked": false,
     "schema_version": 3,
     "solution": true,
     "task": false
    }
   },
   "outputs": [],
   "source": [
    "from heapq import heappush, heappop\n",
    "\n",
    "def shortest_path(adj, source, target):\n",
    "    \"\"\"\n",
    "    Compute the shortest path from node `source` to node `target` \n",
    "    in weighted graph `adj`.\n",
    "    \"\"\"\n",
    "    n = len(adj)\n",
    "    dist = [10**10 for _ in range(n)]\n",
    "    previous = [None for _ in range(n)]\n",
    "    Q = []\n",
    "    \n",
    "    heappush(Q, (0, source))\n",
    "    dist[source] = 0 \n",
    "\n",
    "    while len(Q):\n",
    "        dist_u, u = heappop(Q)\n",
    "        if(u == target):\n",
    "            break\n",
    "\n",
    "        if dist[u] < dist_u:\n",
    "            continue\n",
    "\n",
    "        for v, w in adj[u]:\n",
    "            if dist[v] > dist[u] + w:\n",
    "                dist[v] = dist[u] + w\n",
    "                previous[v] = u\n",
    "                heappush(Q, (dist[v], v))\n",
    "    \n",
    "    S = []\n",
    "    u = target\n",
    "    if(previous[u] != None or u == source):\n",
    "        while u != None:\n",
    "            S.append(u)\n",
    "            u = previous[u]\n",
    "    S.reverse()\n",
    "    return S"
   ]
  },
  {
   "cell_type": "code",
   "execution_count": 51,
   "metadata": {
    "deletable": false,
    "editable": false,
    "nbgrader": {
     "cell_type": "code",
     "checksum": "ad92464b95a5ee8526dc76cc04c5e39b",
     "grade": true,
     "grade_id": "cell-02fb691d2481a07d",
     "locked": true,
     "points": 1,
     "schema_version": 3,
     "solution": false,
     "task": false
    }
   },
   "outputs": [],
   "source": [
    "adj = [[(1, 4), (7, 8)], \n",
    "       [(0, 4), (7, 11), (2, 8)], \n",
    "       [(1, 8), (3, 7), (5, 4), (8, 2)], \n",
    "       [(2, 7), (4, 9), (5, 14)], \n",
    "       [(3, 9), (5, 10)], \n",
    "       [(2, 4), (3, 14), (4, 10), (6, 2)], \n",
    "       [(5, 2), (8, 6), (7, 1)], \n",
    "       [(0, 8), (1, 11), (6, 1), (8, 7)], \n",
    "       [(2, 2), (6, 6), (7, 7)]]\n",
    "\n",
    "assert shortest_path(adj, 0, 8) == [0,1,2,8]\n",
    "assert shortest_path(adj, 0, 4) == [0, 7, 6, 5, 4]\n",
    "assert shortest_path(adj, 1, 6) == [1,7,6]\n",
    "assert shortest_path(adj, 8, 4) == [8,2,5,4]"
   ]
  },
  {
   "cell_type": "markdown",
   "metadata": {},
   "source": [
    "## Exercise 2: SSSP in a DAG\n",
    "\n",
    "Dijkstra's algorithm works pretty fast, but in special cases we can be even faster. If the graph is a DAG, we can actually find the shortest paths from a given node in $\\mathcal O(E)$ time. Write the following function which computes distances in a DAG in $\\mathcal O(E)$ time. For simplicity, you may assume that the graph is already given in toposort order. That is, if there is an edge $v \\to w$, then you may assume that $v < w$."
   ]
  },
  {
   "cell_type": "code",
   "execution_count": 58,
   "metadata": {
    "deletable": false,
    "nbgrader": {
     "cell_type": "code",
     "checksum": "6d6b17cdb3a4d16040b296084f5d5a03",
     "grade": false,
     "grade_id": "cell-e65dad80cfa6f40a",
     "locked": false,
     "schema_version": 3,
     "solution": true,
     "task": false
    }
   },
   "outputs": [],
   "source": [
    "def DAG_distance(adj, source, target):\n",
    "    \"\"\"\n",
    "    Return the length of the shortest path from source to target in adj,\n",
    "    or return None if no such path exists. You may assume that adj is a\n",
    "    DAG given in toposort order.\n",
    "    \"\"\"\n",
    "    n = len(adj)\n",
    "\n",
    "    # Initialize the distance to every vertex to `infinite`.\n",
    "    dist = [10**10 for _ in range(n)]\n",
    "\n",
    "    # Recall that a priority queue is just a list in Python.\n",
    "    Q = []\n",
    "\n",
    "    # Initialize the PQ with source.\n",
    "    # We are going to put pairs (distance, node) on the priority queue:\n",
    "    # this ensures that the node with lowest distance is popped first.\n",
    "    heappush(Q, (0, source))\n",
    "    dist[source] = 0 \n",
    "\n",
    "    while len(Q):\n",
    "        dist_u, u = heappop(Q) # Retrieve node with tot dist d.\n",
    "        if(u == target):\n",
    "            break\n",
    "        for v, w in adj[u]:\n",
    "            # Relaxing the distance:\n",
    "            if dist[v] > dist[u] + w:\n",
    "                dist[v] = dist[u] + w\n",
    "                heappush(Q, (dist[v], v))\n",
    "    if(dist[target] != 10**10):\n",
    "        return dist[target]\n",
    "    return None"
   ]
  },
  {
   "cell_type": "code",
   "execution_count": 59,
   "metadata": {
    "deletable": false,
    "editable": false,
    "nbgrader": {
     "cell_type": "code",
     "checksum": "03f730dc1e7eace9b1a41d6531266d85",
     "grade": true,
     "grade_id": "cell-3c27bc592c86bdaa",
     "locked": true,
     "points": 1,
     "schema_version": 3,
     "solution": false,
     "task": false
    }
   },
   "outputs": [],
   "source": [
    "adj = [[(2, 5), (3, 6), (4, 12), (5, 15)], [(3, 10), (6, 11)],\n",
    "      [(4, 3), (5, 2)], [(5, 2)], [], [(6, 1)], []]\n",
    "\n",
    "assert DAG_distance(adj, 0, 5) == 7\n",
    "assert DAG_distance(adj, 0, 1) == None\n",
    "assert DAG_distance(adj, 1, 6) == 11\n",
    "assert DAG_distance(adj, 0, 4) == 8\n",
    "assert DAG_distance(adj, 6, 6) == 0\n",
    "assert DAG_distance(adj, 2, 5) == 2\n",
    "assert DAG_distance(adj, 5, 2) == None"
   ]
  },
  {
   "cell_type": "markdown",
   "metadata": {},
   "source": [
    "## Exercise 3: Dijkstra with a twist\n",
    "\n",
    "In programming contests, a Dijkstra exercise will often have some kind of twist, to keep it interesting. Let's look at one example: [Get Shorty](https://open.kattis.com/problems/getshorty) on Kattis. Here we get a graph, and we need to go from one node to another node, but the edges don't have ordinary distances. Instead, each edge has a _shrink ray_: if we traverse an edge, we are shrunk by some factor $0 < f \\leq 1$. We want to traverse the graph, and come out as tall as possible.\n",
    "\n",
    "You have to think about how this relates to the Dijkstra algorithm. There are at least two approaches:\n",
    "\n",
    "1. Think about how the Dijkstra algorithm works. Normally, you want to minimize something (the sum of the weights of the edges on your path). Now you want to maximize the product of those weights. What do you have to change? How do you ensure that your priority queue pops the right node to relax?\n",
    "2. Can you somehow transform the problem so that you can solve it with an ordinary Dijkstra algorithm, and still produce the correct output?"
   ]
  },
  {
   "cell_type": "code",
   "execution_count": 94,
   "metadata": {
    "deletable": false,
    "nbgrader": {
     "cell_type": "code",
     "checksum": "78e9bff83d71999b3fa910850d64864f",
     "grade": false,
     "grade_id": "cell-4c97a6bcd3542776",
     "locked": false,
     "schema_version": 3,
     "solution": true,
     "task": false
    }
   },
   "outputs": [],
   "source": [
    "def get_shorty(adj, source, target):\n",
    "    \"\"\"\n",
    "    Given a weighted graph adj, whose weights are all between 0 and 1,\n",
    "    find the path from source to target for which the product of the\n",
    "    weights is as big as possible, and return the product of the weights\n",
    "    on that path.\n",
    "    \n",
    "    Note that for the Kattis problem, the source is always 0, and the\n",
    "    target is always n-1, and that you have to return the correct result \n",
    "    rounded to exactly four decimal places -- you don't need to do that\n",
    "    in this function.\n",
    "    \"\"\"\n",
    "    n = len(adj)\n",
    "    Q = []\n",
    "    dist = [0 for u in range(n)]\n",
    "    dist[source] = 1\n",
    "    heappush(Q, (-1,source))\n",
    "    while len(Q):\n",
    "        dist_u, u = heappop(Q)\n",
    "        dist_u = -dist_u\n",
    "        if(u == target):\n",
    "            break\n",
    "        if(dist[u] > dist_u):\n",
    "            continue\n",
    "        for (v,w) in adj[u]:\n",
    "            if dist[v] < dist[u] * w:\n",
    "                dist[v] = dist[u] * w\n",
    "                heappush(Q, (-dist[v], v))\n",
    "    return dist[target]"
   ]
  },
  {
   "cell_type": "code",
   "execution_count": 95,
   "metadata": {
    "deletable": false,
    "editable": false,
    "nbgrader": {
     "cell_type": "code",
     "checksum": "28a89dca3a0c0ae7662134170801dfe7",
     "grade": true,
     "grade_id": "cell-7b498f483a8510e8",
     "locked": true,
     "points": 1,
     "schema_version": 3,
     "solution": false,
     "task": false
    }
   },
   "outputs": [],
   "source": [
    "import math\n",
    "\n",
    "# The example from Kattis.\n",
    "adj = [[(1, 0.9), (2, 0.8)], [(2, 0.9)], []]\n",
    "assert math.isclose(get_shorty(adj, 0, 2), 0.81)\n",
    "\n",
    "adj = [[(1, 1/4), (7, 1/8)], \n",
    "       [(0, 1/4), (7, 1/11), (2, 1/8)], \n",
    "       [(1, 1/8), (3, 1/7), (5, 1/4), (8, 1/2)], \n",
    "       [(2, 1/7), (4, 1/9), (5, 1/14)], \n",
    "       [(3, 1/9), (5, 1/10)], \n",
    "       [(2, 1/4), (3, 1/14), (4, 1/10), (6, 1/2)], \n",
    "       [(5, 1/2), (8, 1/6), (7, 1/1)], \n",
    "       [(0, 1/8), (1, 1/11), (6, 1/1), (8, 1/7)], \n",
    "       [(2, 1/2), (6, 1/6), (7, 1/7)]]\n",
    "assert math.isclose(get_shorty(adj, 2, 5), 0.25)\n",
    "assert math.isclose(get_shorty(adj, 0, 8), 0.020833333333)\n",
    "assert math.isclose(get_shorty(adj,0, 4), 0.00625)\n",
    "assert math.isclose(get_shorty(adj,0, 6), 0.125)\n",
    "assert math.isclose(get_shorty(adj,1, 4), 0.00454545454545)"
   ]
  },
  {
   "cell_type": "code",
   "execution_count": null,
   "metadata": {},
   "outputs": [],
   "source": []
  },
  {
   "cell_type": "code",
   "execution_count": null,
   "metadata": {},
   "outputs": [],
   "source": []
  }
 ],
 "metadata": {
  "kernelspec": {
   "display_name": "Python 3",
   "language": "python",
   "name": "python3"
  },
  "language_info": {
   "codemirror_mode": {
    "name": "ipython",
    "version": 3
   },
   "file_extension": ".py",
   "mimetype": "text/x-python",
   "name": "python",
   "nbconvert_exporter": "python",
   "pygments_lexer": "ipython3",
   "version": "3.6.9"
  }
 },
 "nbformat": 4,
 "nbformat_minor": 2
}
