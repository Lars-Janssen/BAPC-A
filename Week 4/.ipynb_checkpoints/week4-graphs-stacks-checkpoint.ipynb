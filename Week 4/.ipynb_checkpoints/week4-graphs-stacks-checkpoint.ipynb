{
 "cells": [
  {
   "cell_type": "markdown",
   "metadata": {},
   "source": [
    "Before you turn this problem in, make sure everything runs as expected. First, **restart the kernel** (in the menubar, select Kernel$\\rightarrow$Restart) and then **run all cells** (in the menubar, select Cell$\\rightarrow$Run All).\n",
    "\n",
    "Make sure you fill in any place that says `YOUR CODE HERE` or \"YOUR ANSWER HERE\", as well as your name and collaborators below:"
   ]
  },
  {
   "cell_type": "code",
   "execution_count": 1,
   "metadata": {},
   "outputs": [],
   "source": [
    "NAME = \"Lars Janssen\""
   ]
  },
  {
   "cell_type": "markdown",
   "metadata": {},
   "source": [
    "---"
   ]
  },
  {
   "cell_type": "markdown",
   "metadata": {},
   "source": [
    "For those not familiar with Python, a quick overview is given [here](https://github.com/palcu/python-for-competitive-programming/blob/master/python-for-competitive-programming.ipynb)."
   ]
  },
  {
   "cell_type": "markdown",
   "metadata": {
    "deletable": false,
    "editable": false,
    "nbgrader": {
     "cell_type": "markdown",
     "checksum": "a0f27a052e07586f9f00f99780333a78",
     "grade": false,
     "grade_id": "cell-5d086d64b8fde0b8",
     "locked": true,
     "schema_version": 3,
     "solution": false,
     "task": false
    }
   },
   "source": [
    "# Notebook BAPC week 4: Graphs: stacks and DFS\n"
   ]
  },
  {
   "cell_type": "code",
   "execution_count": 2,
   "metadata": {},
   "outputs": [],
   "source": [
    "# Run the following piece of code!\n",
    "\n",
    "# This asserts that we are running Python 3.\n",
    "import sys\n",
    "assert sys.version_info >= (3,)\n",
    "\n",
    "import random\n",
    "import time\n",
    "\n",
    "# This allows us to emulate command line I/O.\n",
    "# Don't worry about how it works.\n",
    "from contextlib import redirect_stdout\n",
    "from io import StringIO\n",
    "from sys import stdin\n",
    "# Overwrite the jupyter input function.\n",
    "def input():\n",
    "    return stdin.readline()"
   ]
  },
  {
   "cell_type": "markdown",
   "metadata": {
    "deletable": false,
    "editable": false,
    "nbgrader": {
     "cell_type": "markdown",
     "checksum": "7df14c7f1c87e6a2404b985ec7bfd753",
     "grade": false,
     "grade_id": "cell-41f0a65ddb628d47",
     "locked": true,
     "schema_version": 3,
     "solution": false,
     "task": false
    }
   },
   "source": [
    "## Exercise 1: Stacks\n",
    "The `stack` datastructure is easily implemented using a `list`. The four efficient methods are as follows:\n",
    "* `len(stack)` returns the number of elements on the stack;\n",
    "* `stack.append(element)` pushes an element onto the top of the stack;\n",
    "* `element = stack[-1]` returns the top element of the stack;\n",
    "* `element = stack.pop()` removes and returns the top element of the stack.\n",
    "\n",
    "Here are some examples of how it works:"
   ]
  },
  {
   "cell_type": "code",
   "execution_count": 3,
   "metadata": {},
   "outputs": [],
   "source": [
    "# Initialize an empty stack.\n",
    "stack = []\n",
    "assert len(stack) == 0\n",
    "\n",
    "# Append some items to the stack.\n",
    "stack.append('a')\n",
    "stack.append('b')\n",
    "stack.append('c')\n",
    "assert len(stack) == 3\n",
    "\n",
    "# Returns the top element of the stack.\n",
    "assert stack[-1] == 'c'\n",
    "\n",
    "# Removes and returns the top element of the stack.\n",
    "assert stack.pop() == 'c'\n",
    "assert len(stack) == 2\n",
    "assert stack == ['a', 'b']"
   ]
  },
  {
   "cell_type": "markdown",
   "metadata": {
    "deletable": false,
    "editable": false,
    "nbgrader": {
     "cell_type": "markdown",
     "checksum": "65cdd628cbf772360003b06d7a483b5b",
     "grade": false,
     "grade_id": "cell-fbf322f74f16aa90",
     "locked": true,
     "schema_version": 3,
     "solution": false,
     "task": false
    }
   },
   "source": [
    "### Even Up Solitaire\n",
    "Stacks are widely used in graph algorithms, but they are even useful in their own right. Use a stack to solve the problem [Even Up Solitaire](https://open.kattis.com/problems/evenup) on Kattis below."
   ]
  },
  {
   "cell_type": "code",
   "execution_count": 38,
   "metadata": {
    "deletable": false,
    "nbgrader": {
     "cell_type": "code",
     "checksum": "6335d38bf6dd4aec851e2093772cee6e",
     "grade": false,
     "grade_id": "cell-591b51e9885af0b5",
     "locked": false,
     "schema_version": 3,
     "solution": true,
     "task": false
    }
   },
   "outputs": [],
   "source": [
    "def evenup():\n",
    "    n = int(input())\n",
    "    stack = []\n",
    "    cards = [int(x) for x in input().split()]\n",
    "    si = -1\n",
    "    for i in range(len(cards)):\n",
    "        stack.append(cards[i])\n",
    "        si = si +1\n",
    "        if((stack[si-1] + stack[si]) % 2 == 0 and si >= 1):\n",
    "            stack.pop()\n",
    "            stack.pop()\n",
    "            si = si -2\n",
    "    output = len(stack)\n",
    "    print(output)"
   ]
  },
  {
   "cell_type": "code",
   "execution_count": 39,
   "metadata": {
    "deletable": false,
    "editable": false,
    "nbgrader": {
     "cell_type": "code",
     "checksum": "1616a342c7e58aef80b6e9054d6bbd15",
     "grade": true,
     "grade_id": "cell-51a31591e04d7c27",
     "locked": true,
     "points": 1,
     "schema_version": 3,
     "solution": false,
     "task": false
    }
   },
   "outputs": [
    {
     "name": "stdout",
     "output_type": "stream",
     "text": [
      "All testcases passed.\n"
     ]
    }
   ],
   "source": [
    "# TEST that the solution gives the expected result for the given sample inputs and outputs.\n",
    "for (stdin, expected_out) in [(StringIO('10\\n1 2 3 4 5 6 7 8 9 10\\n'), '10\\n'),\n",
    "                              (StringIO('10\\n1 3 3 4 2 4 1 3 7 1\\n'), \"2\\n\")]:\n",
    "    output = StringIO()\n",
    "    with redirect_stdout(output):\n",
    "        evenup()\n",
    "    found_out = output.getvalue()\n",
    "    if not(found_out == expected_out):\n",
    "        print(\"Output different!\")\n",
    "        print(\"Input is: \\n%s\" % stdin.getvalue())\n",
    "        print(\"Expected output: \\n%s\" % expected_out)\n",
    "        print(\"Found output: \\n%s\" % found_out)\n",
    "    assert found_out == expected_out\n",
    "else:\n",
    "    print(\"All testcases passed.\")"
   ]
  },
  {
   "cell_type": "code",
   "execution_count": 40,
   "metadata": {
    "deletable": false,
    "editable": false,
    "nbgrader": {
     "cell_type": "code",
     "checksum": "f3e29173563289252810510b4913a33a",
     "grade": true,
     "grade_id": "cell-d95ae6b8dc43c32e",
     "locked": true,
     "points": 1,
     "schema_version": 3,
     "solution": false,
     "task": false
    }
   },
   "outputs": [
    {
     "name": "stdout",
     "output_type": "stream",
     "text": [
      "Collecting stopit\n",
      "Installing collected packages: stopit\n",
      "Successfully installed stopit-1.1.2\n",
      "All testcases passed.\n"
     ]
    }
   ],
   "source": [
    "# TEST that the solution runs fast enough for some large inputs.\n",
    "# Note: the first time you run this cell, this code installs an extra Python package on your computer.\n",
    "import sys\n",
    "!{sys.executable} -m pip install stopit\n",
    "import stopit\n",
    "\n",
    "input_lists = [[1, 2]*50000, [999]*100000, [1, 1, 2]*33333, [1, 2, 1, 1]*25000, [1, 2]*25000 + [2, 1]*25000]\n",
    "input_strings = [f\"{len(l)}\\n\" + \" \".join(str(x) for x in l) for l in input_lists]\n",
    "output_strings = [\"100000\\n\", \"0\\n\", \"1\\n\", \"50000\\n\", \"0\\n\"]\n",
    "for test_case, (stdin, expected_out) in enumerate([(StringIO(in_s), out_s) \n",
    "        for in_s, out_s in zip(input_strings, output_strings)]):\n",
    "    output = StringIO()\n",
    "    with stopit.ThreadingTimeout(5.0) as t:\n",
    "        with redirect_stdout(output):\n",
    "            evenup()\n",
    "    assert t.state == t.EXECUTED, \"Your code is too slow on large test case {test_case + 1}. \" \\\n",
    "        \"Did you use a stack efficiently?\"\n",
    "    found_out = output.getvalue()\n",
    "    if not(found_out == expected_out):\n",
    "        print(\"Output different!\")\n",
    "        print(\"Input is: \\n%s\" % stdin.getvalue()[:20] + \"...\")\n",
    "        print(\"Expected output: \\n%s\" % expected_out)\n",
    "        print(\"Found output: \\n%s\" % found_out)\n",
    "    assert found_out == expected_out\n",
    "else:\n",
    "    print(\"All testcases passed.\")"
   ]
  },
  {
   "cell_type": "markdown",
   "metadata": {
    "deletable": false,
    "editable": false,
    "nbgrader": {
     "cell_type": "markdown",
     "checksum": "02b200be51b990215206e2d6a5beffc0",
     "grade": false,
     "grade_id": "cell-3fa313ce51a30b9c",
     "locked": true,
     "schema_version": 3,
     "solution": false,
     "task": false
    }
   },
   "source": [
    "## Exercise 2: Iterative DFS\n",
    "Last week, we learned how to code a DFS using recursion. This week, we will focus on Iterative DFS."
   ]
  },
  {
   "cell_type": "code",
   "execution_count": 43,
   "metadata": {
    "deletable": false,
    "nbgrader": {
     "cell_type": "code",
     "checksum": "a545b35ea69860b6b1a1f3b865d31d55",
     "grade": false,
     "grade_id": "cell-0eb3eaf93aa11892",
     "locked": false,
     "schema_version": 3,
     "solution": true,
     "task": false
    }
   },
   "outputs": [],
   "source": [
    "def DFS_iterative(v, adjlist, seen):\n",
    "    \"\"\"\n",
    "    Perform a DFS starting at node v in the (undirected, 0-indexed)\n",
    "    graph given by adjlist. At the end, the list \"seen\" should contain\n",
    "    True for all reachable nodes and False for unreachable nodes.\n",
    "    \"\"\"\n",
    "    stack = []\n",
    "    stack.append(v)\n",
    "    seen[v] = True\n",
    "    while(len(stack) > 0):\n",
    "        v = stack.pop()\n",
    "        for nbr in adjlist[v]:\n",
    "            if not seen[nbr]:\n",
    "                seen[nbr] = True\n",
    "                stack.append(nbr)"
   ]
  },
  {
   "cell_type": "code",
   "execution_count": 44,
   "metadata": {
    "deletable": false,
    "editable": false,
    "nbgrader": {
     "cell_type": "code",
     "checksum": "e577eba3e04186d67b14e9236e107ddd",
     "grade": true,
     "grade_id": "cell-0fc78657ab9f41b2",
     "locked": true,
     "points": 2,
     "schema_version": 3,
     "solution": false,
     "task": false
    }
   },
   "outputs": [],
   "source": [
    "# TEST that for this connected graph, all nodes are seen DFS'ing from any node.\n",
    "adjlist = [[1,4], [0,2,4], [1,3], [2,4,5], [0,1,3], [3]]\n",
    "for v in range(len(adjlist)):\n",
    "    seen = [False for _ in adjlist]\n",
    "    DFS_iterative(v, adjlist, seen)\n",
    "    assert all(seen), f\"Your DFS did not find node {seen.index(False)} when starting from node {v}.\"\n",
    "    \n",
    "# Test that for this unconnected graph, there are unseen nodes.\n",
    "adjlist = [[1,2], [0], [0], [4], [3]]\n",
    "seen = [False for _ in adjlist]\n",
    "DFS_iterative(1, adjlist, seen)\n",
    "assert seen == [True, True, True, False, False]"
   ]
  },
  {
   "cell_type": "markdown",
   "metadata": {
    "deletable": false,
    "editable": false,
    "nbgrader": {
     "cell_type": "markdown",
     "checksum": "ad645a44d3b1bcb51ea85da5681c7ca1",
     "grade": false,
     "grade_id": "cell-3f47033ae6fc3e98",
     "locked": true,
     "schema_version": 3,
     "solution": false,
     "task": false
    }
   },
   "source": [
    "## Exercise 3: Bipartiteness checking\n",
    "\n",
    "A *bipartite* graph is a graph whose vertices can be divided into two independent sets $U$ and $V$, such that every edge $(u, v)$ either connects a vertex from $U$ to $V$ or from $V$ to $U$. In other words, for every edge $(u,v)$, either $u$ belongs to $U$ and $v$ to $V$, or $u \\in V$ and $v \\in U$.\n",
    "![](https://media.geeksforgeeks.org/wp-content/uploads/bipartitegraph-1.jpg)\n",
    "A graph is bipartite if it allows for a *2-coloring* of the vertices such that no two adjacent vertices share the same color. This is equivalent to saying that the graph contains no odd-length cycles:\n",
    "\n",
    "| ![](https://media.geeksforgeeks.org/wp-content/uploads/bipartitegraphfive.sixJPG.jpg)  | ![](https://media.geeksforgeeks.org/wp-content/uploads/bipartitegraphfive.jpg)  |\n",
    "|----|----|\n",
    "\n",
    "\n",
    "### Algorithm for bipartiteness checking\n",
    "To see if a given graph is *bipartite*, we will try to make a 2-coloring (using \"colors\" `0` and `1`) by using a DFS to traverse the graph. Our graph is not bipartite when two neighboring vertices share a color. In pseudocode, we perform the following steps:\n",
    "* Give every vertex \"color\" `-1` to indicate \"unseen\"\n",
    "* Loop over all vertices\n",
    "    1. If the current vertex is already colored, skip it\n",
    "    2. \"Color\" the current vertex `0`, put it into an empty stack\n",
    "    3. While the stack contains elements:\n",
    "        * take the top element `u`, it should already be colored.\n",
    "        * for each of its neighbors `v`:\n",
    "            * if this neighbor is colored:\n",
    "                * if `u` and `v` are the same color, the graph is not bipartite\n",
    "            * else:\n",
    "                * Put `v` onto the stack\n",
    "                * Color `v` with the other color of `u`\n",
    "    4. When the stack is empty, *this connected component* is bipartite.\n",
    "* The graph must be bipartite.\n",
    "\n",
    "Finish the function `is_bipartite` below."
   ]
  },
  {
   "cell_type": "code",
   "execution_count": null,
   "metadata": {
    "deletable": false,
    "nbgrader": {
     "cell_type": "code",
     "checksum": "fabac6ca0e8d8ff1cb6665a639b4c005",
     "grade": false,
     "grade_id": "cell-0826eb2487953c81",
     "locked": false,
     "schema_version": 3,
     "solution": true,
     "task": false
    }
   },
   "outputs": [],
   "source": [
    "def is_bipartite(V, adjlist):\n",
    "    \"\"\" Returns whether or not the input graph is bipartite.\n",
    "    \n",
    "    `V` is an integer denoting the number of vertices;\n",
    "    `adjlist` is an adjacency list: adjlist[v] is the list of neighbors of v.\n",
    "    \"\"\"\n",
    "    assert V == len(adjlist)\n",
    "    color = [-1 for _ in range(V)]\n",
    "    for s in range(V):\n",
    "        if(color[s] >= 0):\n",
    "            continue\n",
    "        color[s] = 0\n",
    "        stack = [s]\n",
    "        while(len(stack) > 0):\n",
    "            u = stack.pop()\n",
    "            for nbr in adjlist[s]:\n",
    "                if(color[nbr] >= 0):\n",
    "                    if(color[s] == color[nbr]):\n",
    "                        return False\n",
    "                stack.append(nbr)\n",
    "                if(color[s] == 1):\n",
    "                    color[nbr] = 0\n",
    "                else:\n",
    "                    color[nbr] = 1\n",
    "    return True"
   ]
  },
  {
   "cell_type": "code",
   "execution_count": null,
   "metadata": {
    "deletable": false,
    "editable": false,
    "nbgrader": {
     "cell_type": "code",
     "checksum": "4667a10caa60fc47154e784635a39d90",
     "grade": true,
     "grade_id": "cell-93c756245a6a90e1",
     "locked": true,
     "points": 1,
     "schema_version": 3,
     "solution": false,
     "task": false
    }
   },
   "outputs": [],
   "source": [
    "# TEST that the function does what it should for some example graphs.\n",
    "\n",
    "# A graph with just two connected nodes.\n",
    "assert is_bipartite(2, [[1], [0]]), \"Did you correctly implement step 1 above?\"\n",
    "\n",
    "# A graph with two connected components.\n",
    "assert not is_bipartite(5, [[1], [0], [2, 3], [2, 4], [3, 4]]), \\\n",
    "        \"Did you correctly interpret step 4 above? \" + \\\n",
    "        \"the first connected component is bipartite but the second isn't!\"\n",
    "\n",
    "# The complete bipartite graph with U=(0,1,2) and V=(3,4,5) \n",
    "complete_adjlist = [[3,4,5], [3,4,5], [3,4,5], [0,1,2], [0,1,2], [0,1,2]]\n",
    "assert is_bipartite(6, complete_adjlist)\n",
    "\n",
    "# The N-cycle graph.\n",
    "for N in range(3, 50):\n",
    "    N_cycle_adjlist = [[(n-1) % N, (n+1) % N] for n in range(N)]\n",
    "    if N % 2 == 0:\n",
    "        assert is_bipartite(N, N_cycle_adjlist), \\\n",
    "            \"the {}-cycle *is* bipartite!\".format(N)\n",
    "    else:\n",
    "        assert not is_bipartite(N, N_cycle_adjlist), \\\n",
    "        \"the {}-cycle is *not* bipartite!\".format(N)\n"
   ]
  },
  {
   "cell_type": "code",
   "execution_count": null,
   "metadata": {},
   "outputs": [],
   "source": []
  },
  {
   "cell_type": "code",
   "execution_count": null,
   "metadata": {},
   "outputs": [],
   "source": []
  }
 ],
 "metadata": {
  "kernelspec": {
   "display_name": "Python 3",
   "language": "python",
   "name": "python3"
  },
  "language_info": {
   "codemirror_mode": {
    "name": "ipython",
    "version": 3
   },
   "file_extension": ".py",
   "mimetype": "text/x-python",
   "name": "python",
   "nbconvert_exporter": "python",
   "pygments_lexer": "ipython3",
   "version": "3.6.9"
  }
 },
 "nbformat": 4,
 "nbformat_minor": 2
}
