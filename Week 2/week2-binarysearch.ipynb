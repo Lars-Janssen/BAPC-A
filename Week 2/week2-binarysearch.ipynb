{
 "cells": [
  {
   "cell_type": "markdown",
   "metadata": {},
   "source": [
    "Before you turn this problem in, make sure everything runs as expected. First, **restart the kernel** (in the menubar, select Kernel$\\rightarrow$Restart) and then **run all cells** (in the menubar, select Cell$\\rightarrow$Run All).\n",
    "\n",
    "Make sure you fill in any place that says `YOUR CODE HERE` or \"YOUR ANSWER HERE\", as well as your name and collaborators below:"
   ]
  },
  {
   "cell_type": "code",
   "execution_count": 17,
   "metadata": {},
   "outputs": [],
   "source": [
    "NAME = \"Lars Janssen\""
   ]
  },
  {
   "cell_type": "markdown",
   "metadata": {},
   "source": [
    "---"
   ]
  },
  {
   "cell_type": "markdown",
   "metadata": {},
   "source": [
    "For those not familiar with Python, a quick overview is given [here](https://github.com/palcu/python-for-competitive-programming/blob/master/python-for-competitive-programming.ipynb)."
   ]
  },
  {
   "cell_type": "markdown",
   "metadata": {
    "deletable": false,
    "editable": false,
    "nbgrader": {
     "cell_type": "markdown",
     "checksum": "faeb2b8f41310973853e0be1a2022f55",
     "grade": false,
     "grade_id": "cell-5d086d64b8fde0b8",
     "locked": true,
     "schema_version": 3,
     "solution": false,
     "task": false
    }
   },
   "source": [
    "# Notebook BAPC week 2: Binary search\n",
    "\n"
   ]
  },
  {
   "cell_type": "code",
   "execution_count": 18,
   "metadata": {
    "deletable": false,
    "editable": false,
    "nbgrader": {
     "cell_type": "code",
     "checksum": "d6356fd7055aa1e14fd55585b721e397",
     "grade": false,
     "grade_id": "cell-9c758f2c85398ec2",
     "locked": true,
     "schema_version": 3,
     "solution": false,
     "task": false
    }
   },
   "outputs": [],
   "source": [
    "# Run the following piece of code!\n",
    "\n",
    "# This asserts that we are running Python 3.\n",
    "import sys\n",
    "assert sys.version_info >= (3,)\n",
    "\n",
    "import random\n",
    "import time"
   ]
  },
  {
   "cell_type": "markdown",
   "metadata": {
    "deletable": false,
    "editable": false,
    "nbgrader": {
     "cell_type": "markdown",
     "checksum": "067e0ec71c16fa0278b92f0746adbf2a",
     "grade": false,
     "grade_id": "cell-8640b66c504e2cbd",
     "locked": true,
     "schema_version": 3,
     "solution": false,
     "task": false
    }
   },
   "source": [
    "This notebook consist of two parts: one is a Python recap, the other concerns binary search."
   ]
  },
  {
   "cell_type": "markdown",
   "metadata": {
    "deletable": false,
    "editable": false,
    "nbgrader": {
     "cell_type": "markdown",
     "checksum": "c90a07e1d5f62745f5e5523a193fa40e",
     "grade": false,
     "grade_id": "cell-41f0a65ddb628d47",
     "locked": true,
     "schema_version": 3,
     "solution": false,
     "task": false
    }
   },
   "source": [
    "## Exercise 1: quick Python recap\n",
    "We use `list`s a lot in Python. The `list` is an *ordered* data structure, meaning that its contents have an ordering. We can index into it -- `print(my_list[i])`. Python contains a number of different useful data structures:"
   ]
  },
  {
   "cell_type": "markdown",
   "metadata": {
    "deletable": false,
    "editable": false,
    "nbgrader": {
     "cell_type": "markdown",
     "checksum": "6864cc1d21c2638521437e3c7a5949f4",
     "grade": false,
     "grade_id": "cell-b35397364976f549",
     "locked": true,
     "schema_version": 3,
     "solution": false,
     "task": false
    }
   },
   "source": [
    "### The `tuple`\n",
    "A `tuple` is much like a `list`, but it is *immutable*, which means we cannot change its contents after creation."
   ]
  },
  {
   "cell_type": "code",
   "execution_count": 19,
   "metadata": {
    "scrolled": true
   },
   "outputs": [
    {
     "name": "stdout",
     "output_type": "stream",
     "text": [
      "('jan', 'mees', 5)\n",
      "jan\n"
     ]
    },
    {
     "ename": "TypeError",
     "evalue": "'tuple' object does not support item assignment",
     "output_type": "error",
     "traceback": [
      "\u001b[0;31m---------------------------------------------------------------------------\u001b[0m",
      "\u001b[0;31mTypeError\u001b[0m                                 Traceback (most recent call last)",
      "\u001b[0;32m<ipython-input-19-58a505e20cd5>\u001b[0m in \u001b[0;36m<module>\u001b[0;34m\u001b[0m\n\u001b[1;32m     13\u001b[0m \u001b[0;34m\u001b[0m\u001b[0m\n\u001b[1;32m     14\u001b[0m \u001b[0;31m# ...but we may not *change* a tuple:\u001b[0m\u001b[0;34m\u001b[0m\u001b[0;34m\u001b[0m\u001b[0;34m\u001b[0m\u001b[0m\n\u001b[0;32m---> 15\u001b[0;31m \u001b[0mmy_tuple\u001b[0m\u001b[0;34m[\u001b[0m\u001b[0;36m0\u001b[0m\u001b[0;34m]\u001b[0m \u001b[0;34m=\u001b[0m \u001b[0;34m\"ray\"\u001b[0m\u001b[0;34m\u001b[0m\u001b[0;34m\u001b[0m\u001b[0m\n\u001b[0m",
      "\u001b[0;31mTypeError\u001b[0m: 'tuple' object does not support item assignment"
     ]
    }
   ],
   "source": [
    "# This is how we can create a tuple:\n",
    "my_tuple = (\"jan\", \"mees\", 5)\n",
    "print(my_tuple)\n",
    "\n",
    "# The tuple and the list are two different things:\n",
    "some_list = [\"jan\", \"mees\", 5]\n",
    "assert my_tuple != some_list\n",
    "# but we may convert one into the other\n",
    "assert my_tuple == tuple(some_list) and list(my_tuple) == some_list\n",
    "\n",
    "# We may index inside a tuple...\n",
    "print(my_tuple[0])\n",
    "\n",
    "# ...but we may not *change* a tuple:\n",
    "my_tuple[0] = \"ray\""
   ]
  },
  {
   "cell_type": "markdown",
   "metadata": {
    "deletable": false,
    "editable": false,
    "nbgrader": {
     "cell_type": "markdown",
     "checksum": "51b81ee22a5611471fc5636cb78b0f5f",
     "grade": false,
     "grade_id": "cell-d4cb87ed870007d2",
     "locked": true,
     "schema_version": 3,
     "solution": false,
     "task": false
    }
   },
   "source": [
    "### The `set`\n",
    "A `set` represents the mathematical notion of a set. It is an *unordered* data structure of unique *elements*. It is very efficient in some cases, like membership testing (\"is `x` in my set?\") and eliminating duplicate entries. "
   ]
  },
  {
   "cell_type": "code",
   "execution_count": 31,
   "metadata": {},
   "outputs": [
    {
     "name": "stdout",
     "output_type": "stream",
     "text": [
      "Set union:  {'jan', 1.0, 2, 4, 5, 6, '3'}\n",
      "Set difference:  {'jan', 1.0, '3'}\n",
      "{'d', 'r'}\n"
     ]
    }
   ],
   "source": [
    "# This is how we can create a set:\n",
    "my_set = {1.0,2,2, \"3\", \"jan\"}\n",
    "\n",
    "# The duplicate values are removed so the set contains 3 elements:\n",
    "assert len(my_set) == 4\n",
    "# and we can check quickly if some element is in our set.\n",
    "assert 1.0 in my_set and \"jan\" in my_set\n",
    "\n",
    "# And we can do mathematical operations on these sets very efficiently\n",
    "other_set = {2,4,5,6}\n",
    "# However, its contents are not ordered and may look surprising:\n",
    "print(\"Set union: \", my_set | other_set)\n",
    "print(\"Set difference: \", my_set - other_set)\n",
    "\n",
    "# We can also do some useful set comprehensions:\n",
    "some_letters = {x for x in 'abracadabra' if x not in 'abc'}\n",
    "print(some_letters)"
   ]
  },
  {
   "cell_type": "markdown",
   "metadata": {
    "deletable": false,
    "editable": false,
    "nbgrader": {
     "cell_type": "markdown",
     "checksum": "8fe76a0e9eb58b821195416da58d4a63",
     "grade": false,
     "grade_id": "cell-020ec1ea36f90b15",
     "locked": true,
     "schema_version": 3,
     "solution": false,
     "task": false
    }
   },
   "source": [
    "### The `dict`\n",
    "A `dict` represents a dictionary: it can map `key`s to `value`s. Unlike lists, which are indexed by a range of numbers, dictionaries are indexed by keys, which can be any immutable type like `str`, `float`, `int`, or even a `tuple`."
   ]
  },
  {
   "cell_type": "code",
   "execution_count": 25,
   "metadata": {},
   "outputs": [
    {
     "name": "stdout",
     "output_type": "stream",
     "text": [
      "mees was born in 1992\n",
      "jan was born in 1993\n",
      "ray was born in 1991\n"
     ]
    }
   ],
   "source": [
    "# This is how we create a dictionary\n",
    "my_dict = {'mees': 1992, 'jan': 1993}\n",
    "\n",
    "# and we can put new elements in it.\n",
    "my_dict[\"ray\"] = 1991\n",
    "\n",
    "# We can loop over the keys,\n",
    "for key in my_dict:\n",
    "    print(\"%s was born in %s\" % (key, my_dict[key]))\n",
    "\n",
    "# or check if the dict contains some key.\n",
    "assert \"jan\" in my_dict"
   ]
  },
  {
   "cell_type": "markdown",
   "metadata": {
    "deletable": false,
    "editable": false,
    "nbgrader": {
     "cell_type": "markdown",
     "checksum": "976ca1ec870037d6d49f56cdbf385387",
     "grade": false,
     "grade_id": "cell-ee8402671ea5d49a",
     "locked": true,
     "schema_version": 3,
     "solution": false,
     "task": false
    }
   },
   "source": [
    "As an example of the usefulness of these data structures, let's solve the problem [Quick Brown Fox](https://open.kattis.com/problems/quickbrownfox) from last weeks Kattis competition."
   ]
  },
  {
   "cell_type": "code",
   "execution_count": 26,
   "metadata": {},
   "outputs": [
    {
     "data": {
      "text/plain": [
       "'abcdef'"
      ]
     },
     "execution_count": 26,
     "metadata": {},
     "output_type": "execute_result"
    }
   ],
   "source": [
    "# We can convert a list of strings to one larger string like so:\n",
    "\"\".join(['a', 'b', 'c', 'def'])"
   ]
  },
  {
   "cell_type": "code",
   "execution_count": 50,
   "metadata": {
    "deletable": false,
    "nbgrader": {
     "cell_type": "code",
     "checksum": "6c61868c68b9705745a025cf11b1e57b",
     "grade": false,
     "grade_id": "cell-e2c2d1faab830dac",
     "locked": false,
     "schema_version": 3,
     "solution": true,
     "task": false
    }
   },
   "outputs": [],
   "source": [
    "# Can you find and fix the mistake in the following function?\n",
    "alphabet = set('abcdefghijklmnopqrstuvwxyz')\n",
    "def quickbrownfox(line):\n",
    "    \"\"\" Returns the string of missing lowercase letters in alphabetical order. \"\"\"\n",
    "    return \"\".join(sorted(alphabet - set(line.lower())))"
   ]
  },
  {
   "cell_type": "code",
   "execution_count": 51,
   "metadata": {
    "deletable": false,
    "editable": false,
    "nbgrader": {
     "cell_type": "code",
     "checksum": "980a7b5b7e59fff2cbf7c6924b859a73",
     "grade": true,
     "grade_id": "cell-51a31591e04d7c27",
     "locked": true,
     "points": 1,
     "schema_version": 3,
     "solution": false,
     "task": false
    }
   },
   "outputs": [],
   "source": [
    "# TEST that the function returns what we want.\n",
    "def assert_same(lhs, rhs):\n",
    "    assert lhs == rhs, \"'%s' and '%s' differ!\" % (lhs, rhs)\n",
    "    \n",
    "assert_same(quickbrownfox(\"The quick brown fox jumps over the lazy dog.\"), '')\n",
    "assert_same(quickbrownfox(\"ZYXW, vu TSR Ponm lkj ihgfd CBA.\"), 'eq')\n",
    "assert_same(quickbrownfox(\"\"\".,?!'\" 92384 abcde FGHIJ\"\"\"), 'klmnopqrstuvwxyz')"
   ]
  },
  {
   "cell_type": "markdown",
   "metadata": {
    "deletable": false,
    "editable": false,
    "nbgrader": {
     "cell_type": "markdown",
     "checksum": "5d47ea90669860b94fd823b914251f9f",
     "grade": false,
     "grade_id": "cell-024796d49bc7a65c",
     "locked": true,
     "schema_version": 3,
     "solution": false,
     "task": false
    }
   },
   "source": [
    "### Iterators"
   ]
  },
  {
   "cell_type": "code",
   "execution_count": 52,
   "metadata": {},
   "outputs": [],
   "source": [
    "# We have already seen some iterators like..\n",
    "\n",
    "# sorted:\n",
    "my_list = [2,1,3]\n",
    "assert sorted(my_list) == [1,2,3]\n",
    "# and reversed:\n",
    "assert list(reversed(my_list)) == [3,1,2]\n",
    "# and range:\n",
    "assert [x for x in range(5)] == [0,1,2,3,4]"
   ]
  },
  {
   "cell_type": "code",
   "execution_count": 53,
   "metadata": {},
   "outputs": [
    {
     "name": "stdout",
     "output_type": "stream",
     "text": [
      "[(0, 'a'), (1, 'b'), (2, 'c'), (3, 'd'), (4, 'e'), (5, 'f'), (6, 'g'), (7, 'h'), (8, 'i'), (9, 'j'), (10, 'k'), (11, 'l'), (12, 'm'), (13, 'n'), (14, 'o'), (15, 'p'), (16, 'q'), (17, 'r'), (18, 's'), (19, 't'), (20, 'u'), (21, 'v'), (22, 'w'), (23, 'x'), (24, 'y'), (25, 'z')]\n",
      "a is the 1th letter of the alphabet\n",
      "b is the 2th letter of the alphabet\n",
      "c is the 3th letter of the alphabet\n",
      "d is the 4th letter of the alphabet\n",
      "e is the 5th letter of the alphabet\n",
      "f is the 6th letter of the alphabet\n",
      "g is the 7th letter of the alphabet\n",
      "h is the 8th letter of the alphabet\n",
      "i is the 9th letter of the alphabet\n",
      "j is the 10th letter of the alphabet\n",
      "k is the 11th letter of the alphabet\n",
      "l is the 12th letter of the alphabet\n",
      "m is the 13th letter of the alphabet\n",
      "n is the 14th letter of the alphabet\n",
      "o is the 15th letter of the alphabet\n",
      "p is the 16th letter of the alphabet\n",
      "q is the 17th letter of the alphabet\n",
      "r is the 18th letter of the alphabet\n",
      "s is the 19th letter of the alphabet\n",
      "t is the 20th letter of the alphabet\n",
      "u is the 21th letter of the alphabet\n",
      "v is the 22th letter of the alphabet\n",
      "w is the 23th letter of the alphabet\n",
      "x is the 24th letter of the alphabet\n",
      "y is the 25th letter of the alphabet\n",
      "z is the 26th letter of the alphabet\n"
     ]
    }
   ],
   "source": [
    "# But you can also *enumerate* lists, like so:\n",
    "alphabet_list = list('abcdefghijklmnopqrstuvwxyz')\n",
    "print(list(enumerate(alphabet_list)))\n",
    "for (i, char) in enumerate(alphabet_list):\n",
    "    print(\"%s is the %dth letter of the alphabet\" % (char, i+1))"
   ]
  },
  {
   "cell_type": "code",
   "execution_count": 54,
   "metadata": {},
   "outputs": [
    {
     "name": "stdout",
     "output_type": "stream",
     "text": [
      "Letter j has score 100\n",
      "Letter a has score 5\n",
      "Letter n has score 3\n"
     ]
    }
   ],
   "source": [
    "# Or you can *zip* two lists into a list of tuples.\n",
    "favorite_letters = ['j', 'a', 'n']\n",
    "letter_scores = [100, 5, 3]\n",
    "for letter, score in zip(favorite_letters, letter_scores):\n",
    "    print(\"Letter %s has score %d\" % (letter, score))"
   ]
  },
  {
   "cell_type": "markdown",
   "metadata": {
    "deletable": false,
    "editable": false,
    "nbgrader": {
     "cell_type": "markdown",
     "checksum": "c1763766dc29cc105038ffb31ac641bc",
     "grade": false,
     "grade_id": "cell-3fa313ce51a30b9c",
     "locked": true,
     "schema_version": 3,
     "solution": false,
     "task": false
    }
   },
   "source": [
    "## Exercise 2: Determining membership of sorted list\n",
    "\n",
    "Look at the following implementation of Binary Search."
   ]
  },
  {
   "cell_type": "code",
   "execution_count": 55,
   "metadata": {},
   "outputs": [],
   "source": [
    "def binary_search(a, l):\n",
    "    if a < l[0] or a > l[-1]: return False\n",
    "    low, high = 0, len(l)\n",
    "    while high - low > 1:\n",
    "        mid = (high + low)//2\n",
    "        if l[mid] == a:\n",
    "            return True\n",
    "        if l[mid] < a:\n",
    "            low = mid\n",
    "        else:\n",
    "            high = mid\n",
    "    return l[low] == a"
   ]
  },
  {
   "cell_type": "code",
   "execution_count": 56,
   "metadata": {
    "deletable": false,
    "editable": false,
    "nbgrader": {
     "cell_type": "code",
     "checksum": "9c0f1a139cfdd1261a410fdf01fb7ccb",
     "grade": true,
     "grade_id": "cell-2afdf0be16aac940",
     "locked": true,
     "points": 1,
     "schema_version": 3,
     "solution": false,
     "task": false
    }
   },
   "outputs": [],
   "source": [
    "# TEST that binary_search returns the correct result for some examples.\n",
    "l = [1, 2, 3, 5]\n",
    "assert binary_search(2, l) == True\n",
    "assert binary_search(4, l) == False"
   ]
  },
  {
   "cell_type": "code",
   "execution_count": 57,
   "metadata": {
    "deletable": false,
    "editable": false,
    "nbgrader": {
     "cell_type": "code",
     "checksum": "31edeee49ffdada9234e41079b582736",
     "grade": true,
     "grade_id": "cell-895cf4021d46e6e8",
     "locked": true,
     "points": 1,
     "schema_version": 3,
     "solution": false,
     "task": false
    }
   },
   "outputs": [],
   "source": [
    "# TEST that the result of `binary_search` equals that of the\n",
    "# `in` operator for a sorted list of random numbers `l`.\n",
    "random.seed(1)\n",
    "\n",
    "N = 100\n",
    "l = sorted([random.randint(0, 10*N) for _ in range(N)])\n",
    "assert all([binary_search(a, l) == (a in l) for a in range(0, 10*N)])"
   ]
  },
  {
   "cell_type": "markdown",
   "metadata": {
    "deletable": false,
    "editable": false,
    "nbgrader": {
     "cell_type": "markdown",
     "checksum": "d1f1a97783fa98a456192ffe3ac47624",
     "grade": false,
     "grade_id": "cell-66694e3e120af33c",
     "locked": true,
     "schema_version": 3,
     "solution": false,
     "task": false
    }
   },
   "source": [
    "So if they compute the same, why not just use the python `in` operator?\n",
    "\n",
    "To see why, run the following cell (it may take some time!)."
   ]
  },
  {
   "cell_type": "code",
   "execution_count": 58,
   "metadata": {},
   "outputs": [
    {
     "name": "stdout",
     "output_type": "stream",
     "text": [
      "Ns =  [10, 31, 100, 316, 1000, 3162, 10000, 31622, 100000]\n",
      "N = 10; binary-search 1.21192e-06; linear-search 8.2694e-07\n",
      "N = 31; binary-search 1.45117e-06; linear-search 1.08954e-06\n",
      "N = 100; binary-search 1.85215e-06; linear-search 1.54614e-06\n",
      "N = 316; binary-search 2.15034e-06; linear-search 3.07831e-06\n",
      "N = 1000; binary-search 2.3398e-06; linear-search 7.92675e-06\n",
      "N = 3162; binary-search 2.72366e-06; linear-search 2.63137e-05\n",
      "N = 10000; binary-search 3.1672e-06; linear-search 7.23278e-05\n",
      "N = 31622; binary-search 3.19176e-06; linear-search 0.000239022\n",
      "N = 100000; binary-search 3.41455e-06; linear-search 0.00105847\n"
     ]
    },
    {
     "data": {
      "image/png": "[encoded data removed]",
      "text/plain": [
       "<matplotlib.figure.Figure at 0x7fbce4d19278>"
      ]
     },
     "metadata": {
      "needs_background": "light"
     },
     "output_type": "display_data"
    }
   ],
   "source": [
    "random.seed(1)\n",
    "\n",
    "Ns = [int(10**x) for x in [1, 1.5, 2, 2.5, 3, 3.5, 4, 4.5, 5]]\n",
    "print(\"Ns = \", Ns)\n",
    "binary_search_times = []\n",
    "linear_search_times = []\n",
    "for N in Ns:\n",
    "    l = sorted([random.randint(0, 10*N) for _ in range(N)])\n",
    "    res_binary = %timeit -q -r 1 -o binary_search(random.randint(0, 10*N), l)\n",
    "    res_linear = %timeit -q -r 1 -o random.randint(0, 10*N) in l\n",
    "    print(\"N = %d; binary-search %g; linear-search %g\" %\n",
    "          (N, res_binary.best, res_linear.best))\n",
    "    binary_search_times.append(res_binary.best)\n",
    "    linear_search_times.append(res_linear.best)\n",
    "\n",
    "import matplotlib.pyplot as plt\n",
    "from math import log\n",
    "plt.loglog(Ns, binary_search_times, label='binary search')\n",
    "plt.loglog(Ns, linear_search_times, label='linear search')\n",
    "plt.loglog(Ns, [linear_search_times[0]/Ns[0] * N for N in Ns], 'k--',\n",
    "           label='linear growth')\n",
    "plt.loglog(Ns, [binary_search_times[0]/Ns[0] * log(N) for N in Ns], 'k-.',\n",
    "           label='logarithmic growth')\n",
    "plt.legend()\n",
    "plt.show()"
   ]
  },
  {
   "cell_type": "markdown",
   "metadata": {
    "deletable": false,
    "editable": false,
    "nbgrader": {
     "cell_type": "markdown",
     "checksum": "425a503965ed0e1f8af727cffca242e0",
     "grade": false,
     "grade_id": "cell-fc0e315fc7078dd7",
     "locked": true,
     "schema_version": 3,
     "solution": false,
     "task": false
    }
   },
   "source": [
    "Comment (briefly) on what you see."
   ]
  },
  {
   "cell_type": "markdown",
   "metadata": {
    "deletable": false,
    "nbgrader": {
     "cell_type": "markdown",
     "checksum": "b4ccc267841b6bf5114ee37b5cf69f89",
     "grade": true,
     "grade_id": "cell-65c215fc57bb6840",
     "locked": false,
     "points": 1,
     "schema_version": 3,
     "solution": true,
     "task": false
    }
   },
   "source": [
    "<font color=red>Linear sort is in O(n) en Binary sort in O(log(n))</font>"
   ]
  },
  {
   "cell_type": "markdown",
   "metadata": {
    "deletable": false,
    "editable": false,
    "nbgrader": {
     "cell_type": "markdown",
     "checksum": "695edfaf6b76458ff15a9ef6e3cdea8c",
     "grade": false,
     "grade_id": "cell-3f47033ae6fc3e98",
     "locked": true,
     "schema_version": 3,
     "solution": false,
     "task": false
    }
   },
   "source": [
    "## Exercise 3: Multi-query binary search\n",
    "Now, instead of merely deciding whether or not an element is a member of a sorted list, the binary search algorithm can be used for another purpose. If we already *know* an element is member of a sorted list, binary search can find the index of this element."
   ]
  },
  {
   "cell_type": "markdown",
   "metadata": {
    "deletable": false,
    "editable": false,
    "nbgrader": {
     "cell_type": "markdown",
     "checksum": "d4d88c7b1724af7120dff2a31f901df6",
     "grade": false,
     "grade_id": "cell-ac681a54b03f626a",
     "locked": true,
     "schema_version": 3,
     "solution": false,
     "task": false
    }
   },
   "source": [
    "You are given a sorted list `l` of integers. All elements in `l` are unique. Given an integer `a` guaranteed to be in `l`, return the 0-based index of `a` in `l`. In the following cell, write the function `binary_search_index` that solves this task."
   ]
  },
  {
   "cell_type": "code",
   "execution_count": 71,
   "metadata": {
    "deletable": false,
    "nbgrader": {
     "cell_type": "code",
     "checksum": "f4635f718879b5c74d5029c777bd5901",
     "grade": false,
     "grade_id": "cell-b10da10728b7c6f3",
     "locked": false,
     "schema_version": 3,
     "solution": true,
     "task": false
    }
   },
   "outputs": [],
   "source": [
    "def binary_search_index(a, l):\n",
    "    assert a >= l[0] and a <= l[-1]  # This will always hold.\n",
    "    low, high = 0, len(l)\n",
    "    while high - low > 1:\n",
    "        mid = (high + low)//2\n",
    "        if l[mid] == a:\n",
    "            return mid\n",
    "        if l[mid] < a:\n",
    "            low = mid\n",
    "        else:\n",
    "            high = mid\n",
    "    return low\n",
    "    raise NotImplementedError()"
   ]
  },
  {
   "cell_type": "code",
   "execution_count": 72,
   "metadata": {
    "deletable": false,
    "editable": false,
    "nbgrader": {
     "cell_type": "code",
     "checksum": "638a6991d16e987dc51ecba2e7398521",
     "grade": true,
     "grade_id": "cell-da55f3f261607f60",
     "locked": true,
     "points": 1,
     "schema_version": 3,
     "solution": false,
     "task": false
    }
   },
   "outputs": [],
   "source": [
    "# TEST that the function returns the right result.\n",
    "l = [1, 2, 3, 5]\n",
    "assert binary_search_index(5, l) == 3\n",
    "assert binary_search_index(1, l) == 0\n",
    "assert binary_search_index(2, l) == 1\n",
    "assert binary_search_index(3, l) == 2\n",
    "assert binary_search_index(5, l) == 3"
   ]
  },
  {
   "cell_type": "markdown",
   "metadata": {
    "deletable": false,
    "editable": false,
    "nbgrader": {
     "cell_type": "markdown",
     "checksum": "f4bc4b95fad9d373452b989acd8d58c4",
     "grade": false,
     "grade_id": "cell-2ddf942af499a364",
     "locked": true,
     "schema_version": 3,
     "solution": false,
     "task": false
    }
   },
   "source": [
    "Suppose now that you are given a list `x` of integers, and for each element in this list, you want to perform the previous task. This is called multi-query binary search. In the following cell, write the function `binary_search_indices` that solves this task.\n",
    "\n",
    "For reference, a naive (not-so-efficient) linear-search implementation `linear_search_indices` is given below."
   ]
  },
  {
   "cell_type": "code",
   "execution_count": 80,
   "metadata": {
    "deletable": false,
    "nbgrader": {
     "cell_type": "code",
     "checksum": "cc053d4af81de277725c7eb1144af79f",
     "grade": false,
     "grade_id": "cell-8431363a6aa2aa32",
     "locked": false,
     "schema_version": 3,
     "solution": true,
     "task": false
    }
   },
   "outputs": [],
   "source": [
    "def linear_search_indices(x, l):\n",
    "    # l.index(a) performs a linear search on `l` to find the index of the element `a`.\n",
    "    # This linear search is too slow for larger input.\n",
    "    return [l.index(a) for a in x]\n",
    "\n",
    "def binary_search_indices(x, l):\n",
    "    indices = []\n",
    "    for a in x:\n",
    "        low, high = 0, len(l)\n",
    "        appended = False\n",
    "        while high - low > 1:\n",
    "            mid = (high + low)//2\n",
    "            if l[mid] == a:\n",
    "                indices.append(mid)\n",
    "                appended = True\n",
    "            if l[mid] < a:\n",
    "                low = mid\n",
    "            else:\n",
    "                high = mid\n",
    "        if(appended == False):\n",
    "            indices.append(low)\n",
    "    return indices\n",
    "    raise NotImplementedError()"
   ]
  },
  {
   "cell_type": "code",
   "execution_count": 79,
   "metadata": {
    "deletable": false,
    "editable": false,
    "nbgrader": {
     "cell_type": "code",
     "checksum": "abf07e94df8d05c23def25dddbf86e3d",
     "grade": true,
     "grade_id": "cell-4d2b4263a55e0b1f",
     "locked": true,
     "points": 1,
     "schema_version": 3,
     "solution": false,
     "task": false
    }
   },
   "outputs": [
    {
     "name": "stdout",
     "output_type": "stream",
     "text": [
      "[3, 0, 1, 2, 3]\n"
     ]
    }
   ],
   "source": [
    "# TEST that the function returns the correct result.\n",
    "x = [5, 1, 2, 3, 5]\n",
    "l = [1, 2, 3, 5]\n",
    "assert linear_search_indices(x, l) == [3, 0, 1, 2, 3]\n",
    "assert binary_search_indices(x, l) == [3, 0, 1, 2, 3]"
   ]
  },
  {
   "cell_type": "code",
   "execution_count": 81,
   "metadata": {
    "deletable": false,
    "editable": false,
    "nbgrader": {
     "cell_type": "code",
     "checksum": "ef5685578bc9a7afed6204ee2fd2c797",
     "grade": true,
     "grade_id": "cell-104fbf4d2ea430f3",
     "locked": true,
     "points": 1,
     "schema_version": 3,
     "solution": false,
     "task": false
    }
   },
   "outputs": [],
   "source": [
    "# TEST that the function is fast enough. Note: there will be a much larger, hidden, test below this one.\n",
    "random.seed(1)\n",
    "\n",
    "l = sorted([random.randint(0, 300000) for _ in range(30000)])\n",
    "x = l.copy(); random.shuffle(x)\n",
    "\n",
    "now = time.time()\n",
    "binary_search_indices(x, l)\n",
    "assert time.time() - now < 2.0, \"Your solution is too slow!\""
   ]
  },
  {
   "cell_type": "code",
   "execution_count": null,
   "metadata": {},
   "outputs": [],
   "source": []
  },
  {
   "cell_type": "code",
   "execution_count": null,
   "metadata": {},
   "outputs": [],
   "source": []
  }
 ],
 "metadata": {
  "kernelspec": {
   "display_name": "Python 3",
   "language": "python",
   "name": "python3"
  },
  "language_info": {
   "codemirror_mode": {
    "name": "ipython",
    "version": 3
   },
   "file_extension": ".py",
   "mimetype": "text/x-python",
   "name": "python",
   "nbconvert_exporter": "python",
   "pygments_lexer": "ipython3",
   "version": "3.6.9"
  }
 },
 "nbformat": 4,
 "nbformat_minor": 2
}
