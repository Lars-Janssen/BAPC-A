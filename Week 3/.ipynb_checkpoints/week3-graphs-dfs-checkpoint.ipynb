{
 "cells": [
  {
   "cell_type": "markdown",
   "metadata": {},
   "source": [
    "Before you turn this problem in, make sure everything runs as expected. First, **restart the kernel** (in the menubar, select Kernel$\\rightarrow$Restart) and then **run all cells** (in the menubar, select Cell$\\rightarrow$Run All).\n",
    "\n",
    "Make sure you fill in any place that says `YOUR CODE HERE` or \"YOUR ANSWER HERE\", as well as your name and collaborators below:"
   ]
  },
  {
   "cell_type": "code",
   "execution_count": 40,
   "metadata": {},
   "outputs": [],
   "source": [
    "NAME = \"Lars Janssen\""
   ]
  },
  {
   "cell_type": "markdown",
   "metadata": {},
   "source": [
    "---"
   ]
  },
  {
   "cell_type": "markdown",
   "metadata": {},
   "source": [
    "For those not familiar with Python, a quick overview is given [here](https://github.com/palcu/python-for-competitive-programming/blob/master/python-for-competitive-programming.ipynb)."
   ]
  },
  {
   "cell_type": "markdown",
   "metadata": {
    "deletable": false,
    "editable": false,
    "nbgrader": {
     "cell_type": "markdown",
     "checksum": "ce0831926783a61c5db79ce38fa73700",
     "grade": false,
     "grade_id": "cell-980788da5f7480ea",
     "locked": true,
     "schema_version": 3,
     "solution": false,
     "task": false
    }
   },
   "source": [
    "# Notebook week 3: Graphs and Depth-First Search"
   ]
  },
  {
   "cell_type": "code",
   "execution_count": 41,
   "metadata": {
    "deletable": false,
    "editable": false,
    "nbgrader": {
     "cell_type": "code",
     "checksum": "fedc7f9df1261082b0e15515be7c4d9d",
     "grade": false,
     "grade_id": "cell-b6d943cdd9b5e929",
     "locked": true,
     "schema_version": 3,
     "solution": false,
     "task": false
    }
   },
   "outputs": [],
   "source": [
    "# Run the following piece of code!\n",
    "\n",
    "# This asserts that we are running Python 3.\n",
    "import sys\n",
    "assert sys.version_info >= (3,)\n",
    "\n",
    "# The following code allows us to emulate command line I/O.\n",
    "from io import StringIO\n",
    "from sys import stdin\n",
    "# Overwrite the jupyter input function.\n",
    "def input():\n",
    "    return stdin.readline()"
   ]
  },
  {
   "cell_type": "markdown",
   "metadata": {
    "deletable": false,
    "editable": false,
    "nbgrader": {
     "cell_type": "markdown",
     "checksum": "2144f98e838e6145bb8dfb13b64e3806",
     "grade": false,
     "grade_id": "cell-2085e451433b4d59",
     "locked": true,
     "schema_version": 3,
     "solution": false,
     "task": false
    }
   },
   "source": [
    "## Exercise 1: Input processing\n",
    "#### Edge lists and adjacency lists\n",
    "The very first step in solving any graph problem is getting the data into a useful structure. In coding competitions, graphs are usually given in the *edge list* format, but the *adjacency list* is often a much more efficient data structure. An edge list is just a list of all edges in the graph. An adjacency list consists of a list of lists: one list for every node, which contains the neighbors of that node.\n",
    "\n",
    "#### 0-based and 1-based graphs\n",
    "When you have a graph with $N$ nodes, you can choose to number the vertices as $1, 2, ..., N$ or as $0, 1, ..., N-1$. The edge lists you get as input can be either 0-based or 1-based. (In the newer APC/BAPC contests, they will usually be 1-based.) For your program internally, keeping track of it in a 0-based way is almost always more convenient.\n",
    "\n",
    "Therefore, the first step in most graph-based algorithms is converting the input from either a 0-based edge list or a 1-based edge list to a 0-based adjacency list.\n",
    "\n",
    "#### Undirected and directed graphs\n",
    "Although reading directed and undirected graphs is similar, it does not work quite the same. Usually when working with directed graphs, you want to keep _two_ adjacency lists: one for \"outgoing edges\" and one for \"incoming edges\". For a standard depth-first-search on a directed graph, you will only need outgoing edges though.\n",
    "\n",
    "In this notebook we work only with undirected graphs, but there may be some exercises with directed graphs in the Kattis competition!\n",
    "\n",
    "#### Exercise \n",
    "Finish the following function to convert from *edge list* to *adjacency list*."
   ]
  },
  {
   "cell_type": "code",
   "execution_count": 42,
   "metadata": {
    "deletable": false,
    "nbgrader": {
     "cell_type": "code",
     "checksum": "c68e8773b2d9cae81061b1cb2aba9da2",
     "grade": false,
     "grade_id": "cell-71d4e4d5748c7e26",
     "locked": false,
     "schema_version": 3,
     "solution": true,
     "task": false
    }
   },
   "outputs": [],
   "source": [
    "def edge2adj_undirected(V, E, edges):\n",
    "    \"\"\" Given an undirected graph as a 1-based edge list,\n",
    "    produce a 0-based adjacency list. \"\"\"\n",
    "    assert len(edges) == E\n",
    "    adjlist = [[] for _ in range(V)]\n",
    "    for (v, w) in edges:\n",
    "        assert 1 <= v <= V and 1 <= w <= V\n",
    "        v = v - 1\n",
    "        w = w - 1\n",
    "        adjlist[v].append(w)\n",
    "        adjlist[w].append(v)\n",
    "    return adjlist"
   ]
  },
  {
   "cell_type": "code",
   "execution_count": 43,
   "metadata": {
    "deletable": false,
    "editable": false,
    "nbgrader": {
     "cell_type": "code",
     "checksum": "30367cc49bace769f6a70d3732373a32",
     "grade": true,
     "grade_id": "cell-ac4c7dd6cf7a2a2a",
     "locked": true,
     "points": 1,
     "schema_version": 3,
     "solution": false,
     "task": false
    }
   },
   "outputs": [],
   "source": [
    "# Test that the function returns the example from the slides.\n",
    "# If it raises an IndexError, you are most likely off-by-one.\n",
    "edges = [(1,2), (1,5), (2,3), (2,5), (3,4), (4,5), (4,6)]\n",
    "try:\n",
    "    result = edge2adj_undirected(V=6, E=7, edges=edges)\n",
    "except IndexError:\n",
    "    assert False, \"is it possible you are off-by-one?\"\n",
    "\n",
    "assert result != [[2,5], [1,3,5], [2,4], [3,5,6], [1,2,4], [4]], \"You made a 1-based adjacency list, not 0-based.\"\n",
    "assert result != [[1,4], [2,4], [3], [4,5], [], []], \"If u is connected to v, don't forget to connect v to u: \" \\\n",
    "    \"we are working with a directed graph.\"\n",
    "assert result == [[1,4], [0,2,4], [1,3], [2,4,5], [0,1,3], [3]]"
   ]
  },
  {
   "cell_type": "markdown",
   "metadata": {
    "deletable": false,
    "editable": false,
    "nbgrader": {
     "cell_type": "markdown",
     "checksum": "b480c1b006d23d4d8fcf52d5633e3817",
     "grade": false,
     "grade_id": "cell-f460fe9fd2321daf",
     "locked": true,
     "schema_version": 3,
     "solution": false,
     "task": false
    }
   },
   "source": [
    "## Exercise 2: Adjacency list application\n",
    "Use the cell below to find the number of \"neighbours-of-neighbours\", i.e. the number of different vertices that you can find by walking two edges from a starting vertex."
   ]
  },
  {
   "cell_type": "code",
   "execution_count": 44,
   "metadata": {
    "deletable": false,
    "nbgrader": {
     "cell_type": "code",
     "checksum": "961764d22c693a7d82d58f5e297ccc20",
     "grade": false,
     "grade_id": "cell-0f6633e31e183f69",
     "locked": false,
     "schema_version": 3,
     "solution": true,
     "task": false
    }
   },
   "outputs": [],
   "source": [
    "def nbrs_of_nbrs(adjlist):\n",
    "    \"\"\"Given a 0-based adjacency list as input, give\n",
    "    a list with the number of neighbors-of-neighbors of each node.\"\"\"\n",
    "    number = [0 for i in range (len(adjlist))]\n",
    "    for i in range(len(adjlist)):\n",
    "        nbrsofnbrs = []\n",
    "        nbrs = adjlist[i]\n",
    "        for y in nbrs:\n",
    "            for p in adjlist[y]:\n",
    "                if(p not in nbrsofnbrs):\n",
    "                    number[i] += 1\n",
    "                    nbrsofnbrs.append(p)\n",
    "    return number"
   ]
  },
  {
   "cell_type": "code",
   "execution_count": 45,
   "metadata": {
    "deletable": false,
    "editable": false,
    "nbgrader": {
     "cell_type": "code",
     "checksum": "37d406db56df53068b1fca4076454e26",
     "grade": true,
     "grade_id": "cell-c2b29e66a7f1cf22",
     "locked": true,
     "points": 1,
     "schema_version": 3,
     "solution": false,
     "task": false
    }
   },
   "outputs": [],
   "source": [
    "adjlist = [[1, 4], [0, 2, 4], [1, 3], [2, 4, 5], [0, 1, 3], [3]]\n",
    "assert nbrs_of_nbrs(adjlist) != [6, 7, 6, 6, 8, 3], \"Did you maybe count some neighbour-neighbours twice?\"\n",
    "assert nbrs_of_nbrs(adjlist) == [5, 4, 4, 3, 5, 3]"
   ]
  },
  {
   "cell_type": "markdown",
   "metadata": {
    "deletable": false,
    "editable": false,
    "nbgrader": {
     "cell_type": "markdown",
     "checksum": "bf5eba120077fbdffcadca45af190d6c",
     "grade": false,
     "grade_id": "cell-94d4688241903d49",
     "locked": true,
     "schema_version": 3,
     "solution": false,
     "task": false
    }
   },
   "source": [
    "## Exercise 3: Recursive DFS example\n",
    "DFS can be used to determine which vertices can be seen from a given starting vertex. Use the slides to finish the code below."
   ]
  },
  {
   "cell_type": "code",
   "execution_count": 54,
   "metadata": {
    "deletable": false,
    "nbgrader": {
     "cell_type": "code",
     "checksum": "05a73c1a2eb24bb8f2b8c4af05ba404a",
     "grade": false,
     "grade_id": "cell-6c91f29e20cc8709",
     "locked": false,
     "schema_version": 3,
     "solution": true,
     "task": false
    }
   },
   "outputs": [],
   "source": [
    "def DFS(v, adjlist, seen):\n",
    "    \"\"\"\n",
    "    Use the DFS algorithm to fill the list `seen`\n",
    "    (initially all False) with `True`s whenever a node is\n",
    "    reachable from the initial node `v`.\n",
    "    \"\"\"\n",
    "    seen[v] = True\n",
    "    for nbr in adjlist[v]:\n",
    "        if not seen[nbr]:\n",
    "            DFS(nbr, adjlist, seen)"
   ]
  },
  {
   "cell_type": "code",
   "execution_count": 55,
   "metadata": {
    "deletable": false,
    "editable": false,
    "nbgrader": {
     "cell_type": "code",
     "checksum": "9d62689a88d3451a783ed65e047967cf",
     "grade": true,
     "grade_id": "cell-f25296e920d6b659",
     "locked": true,
     "points": 1,
     "schema_version": 3,
     "solution": false,
     "task": false
    }
   },
   "outputs": [],
   "source": [
    "# Test that for this connected graph, DFS'ing from *any* node sees every node.\n",
    "adjlist = [[1, 4], [0, 2, 4], [1, 3], [2, 4, 5], [0, 1, 3], [3]]\n",
    "for v in range(len(adjlist)):\n",
    "    seen = [False for _ in adjlist]\n",
    "    try:\n",
    "        DFS(v, adjlist, seen)\n",
    "        assert all(seen)\n",
    "    except IndexError:\n",
    "        assert False, \"Are you off-by-one?\"\n",
    "    \n",
    "# Test that for this unconnected graph, there are unseen nodes.\n",
    "adjlist = [[1,2], [0], [0], [4], [3]]\n",
    "seen = [False for _ in adjlist]\n",
    "DFS(1, adjlist, seen)\n",
    "assert seen == [True, True, True, False, False]"
   ]
  },
  {
   "cell_type": "markdown",
   "metadata": {},
   "source": [
    "## Interlude 3.5: recursion limits\n",
    "\n",
    "In many languages (Python being an example) doing very deep recursion is not a good idea. Therefore, Python has a builtin recursion limit, and will give an exception if you try to do any deeper recursion."
   ]
  },
  {
   "cell_type": "code",
   "execution_count": 56,
   "metadata": {},
   "outputs": [
    {
     "name": "stdout",
     "output_type": "stream",
     "text": [
      "The recursion limit is: 3000\n",
      "Let's try to do DFS on a graph that's basically a long line with 3000 nodes.\n"
     ]
    },
    {
     "ename": "RecursionError",
     "evalue": "maximum recursion depth exceeded",
     "output_type": "error",
     "traceback": [
      "\u001b[0;31m---------------------------------------------------------------------------\u001b[0m",
      "\u001b[0;31mRecursionError\u001b[0m                            Traceback (most recent call last)",
      "\u001b[0;32m<ipython-input-56-7f64215056f6>\u001b[0m in \u001b[0;36m<module>\u001b[0;34m\u001b[0m\n\u001b[1;32m      4\u001b[0m \u001b[0;34m\u001b[0m\u001b[0m\n\u001b[1;32m      5\u001b[0m \u001b[0mlong_graph\u001b[0m \u001b[0;34m=\u001b[0m \u001b[0;34m[\u001b[0m\u001b[0;34m[\u001b[0m\u001b[0;36m1\u001b[0m\u001b[0;34m]\u001b[0m\u001b[0;34m]\u001b[0m \u001b[0;34m+\u001b[0m \u001b[0;34m[\u001b[0m\u001b[0;34m[\u001b[0m\u001b[0mk\u001b[0m\u001b[0;34m-\u001b[0m\u001b[0;36m1\u001b[0m\u001b[0;34m,\u001b[0m \u001b[0mk\u001b[0m\u001b[0;34m+\u001b[0m\u001b[0;36m1\u001b[0m\u001b[0;34m]\u001b[0m \u001b[0;32mfor\u001b[0m \u001b[0mk\u001b[0m \u001b[0;32min\u001b[0m \u001b[0mrange\u001b[0m\u001b[0;34m(\u001b[0m\u001b[0;36m1\u001b[0m\u001b[0;34m,\u001b[0m \u001b[0mn\u001b[0m\u001b[0;34m+\u001b[0m\u001b[0;36m5\u001b[0m\u001b[0;34m)\u001b[0m\u001b[0;34m]\u001b[0m \u001b[0;34m+\u001b[0m \u001b[0;34m[\u001b[0m\u001b[0;34m[\u001b[0m\u001b[0mn\u001b[0m\u001b[0;34m+\u001b[0m\u001b[0;36m4\u001b[0m\u001b[0;34m]\u001b[0m\u001b[0;34m]\u001b[0m\u001b[0;34m\u001b[0m\u001b[0;34m\u001b[0m\u001b[0m\n\u001b[0;32m----> 6\u001b[0;31m \u001b[0mDFS\u001b[0m\u001b[0;34m(\u001b[0m\u001b[0;36m0\u001b[0m\u001b[0;34m,\u001b[0m \u001b[0mlong_graph\u001b[0m\u001b[0;34m,\u001b[0m \u001b[0;34m[\u001b[0m\u001b[0;32mFalse\u001b[0m \u001b[0;32mfor\u001b[0m \u001b[0m_\u001b[0m \u001b[0;32min\u001b[0m \u001b[0mrange\u001b[0m\u001b[0;34m(\u001b[0m\u001b[0mn\u001b[0m\u001b[0;34m+\u001b[0m\u001b[0;36m6\u001b[0m\u001b[0;34m)\u001b[0m\u001b[0;34m]\u001b[0m\u001b[0;34m)\u001b[0m\u001b[0;34m\u001b[0m\u001b[0;34m\u001b[0m\u001b[0m\n\u001b[0m",
      "\u001b[0;32m<ipython-input-54-30cea2913a02>\u001b[0m in \u001b[0;36mDFS\u001b[0;34m(v, adjlist, seen)\u001b[0m\n\u001b[1;32m      8\u001b[0m     \u001b[0;32mfor\u001b[0m \u001b[0mnbr\u001b[0m \u001b[0;32min\u001b[0m \u001b[0madjlist\u001b[0m\u001b[0;34m[\u001b[0m\u001b[0mv\u001b[0m\u001b[0;34m]\u001b[0m\u001b[0;34m:\u001b[0m\u001b[0;34m\u001b[0m\u001b[0;34m\u001b[0m\u001b[0m\n\u001b[1;32m      9\u001b[0m         \u001b[0;32mif\u001b[0m \u001b[0;32mnot\u001b[0m \u001b[0mseen\u001b[0m\u001b[0;34m[\u001b[0m\u001b[0mnbr\u001b[0m\u001b[0;34m]\u001b[0m\u001b[0;34m:\u001b[0m\u001b[0;34m\u001b[0m\u001b[0;34m\u001b[0m\u001b[0m\n\u001b[0;32m---> 10\u001b[0;31m             \u001b[0mDFS\u001b[0m\u001b[0;34m(\u001b[0m\u001b[0mnbr\u001b[0m\u001b[0;34m,\u001b[0m \u001b[0madjlist\u001b[0m\u001b[0;34m,\u001b[0m \u001b[0mseen\u001b[0m\u001b[0;34m)\u001b[0m\u001b[0;34m\u001b[0m\u001b[0;34m\u001b[0m\u001b[0m\n\u001b[0m",
      "... last 1 frames repeated, from the frame below ...\n",
      "\u001b[0;32m<ipython-input-54-30cea2913a02>\u001b[0m in \u001b[0;36mDFS\u001b[0;34m(v, adjlist, seen)\u001b[0m\n\u001b[1;32m      8\u001b[0m     \u001b[0;32mfor\u001b[0m \u001b[0mnbr\u001b[0m \u001b[0;32min\u001b[0m \u001b[0madjlist\u001b[0m\u001b[0;34m[\u001b[0m\u001b[0mv\u001b[0m\u001b[0;34m]\u001b[0m\u001b[0;34m:\u001b[0m\u001b[0;34m\u001b[0m\u001b[0;34m\u001b[0m\u001b[0m\n\u001b[1;32m      9\u001b[0m         \u001b[0;32mif\u001b[0m \u001b[0;32mnot\u001b[0m \u001b[0mseen\u001b[0m\u001b[0;34m[\u001b[0m\u001b[0mnbr\u001b[0m\u001b[0;34m]\u001b[0m\u001b[0;34m:\u001b[0m\u001b[0;34m\u001b[0m\u001b[0;34m\u001b[0m\u001b[0m\n\u001b[0;32m---> 10\u001b[0;31m             \u001b[0mDFS\u001b[0m\u001b[0;34m(\u001b[0m\u001b[0mnbr\u001b[0m\u001b[0;34m,\u001b[0m \u001b[0madjlist\u001b[0m\u001b[0;34m,\u001b[0m \u001b[0mseen\u001b[0m\u001b[0;34m)\u001b[0m\u001b[0;34m\u001b[0m\u001b[0;34m\u001b[0m\u001b[0m\n\u001b[0m",
      "\u001b[0;31mRecursionError\u001b[0m: maximum recursion depth exceeded"
     ]
    }
   ],
   "source": [
    "n = sys.getrecursionlimit()\n",
    "print(f\"The recursion limit is: {n}\")\n",
    "print(f\"Let's try to do DFS on a graph that's basically a long line with {n} nodes.\")\n",
    "\n",
    "long_graph = [[1]] + [[k-1, k+1] for k in range(1, n+5)] + [[n+4]]\n",
    "DFS(0, long_graph, [False for _ in range(n+6)])"
   ]
  },
  {
   "cell_type": "markdown",
   "metadata": {},
   "source": [
    "You can change the recursion limit of Python with the command `sys.setrecursionlimit(N)`. But if you do, you quickly find out why the limit exists: if you try to recur too deeply, Python will just die on you. (If you recur too deeply in a notebook, your browser might crash.) How deep you can go depends on the configuration of your computer and Python installation. On Mees' laptop, it's about 16000. On the Kattis computers, it's about 5000.\n",
    "\n",
    "None of this is dangerous, but it means we cannot always use a recursion-based DFS even if it would solve the problem. In particular, the Kattis problem from the next exercise cannot be solved (on Kattis) recursively. Next week we will learn a way around this, and see how we can do a DFS without recursion. \n",
    "\n",
    "The Kattis problems from this week's set of problems _should_ all be solvable on Kattis with a recursive DFS; but you might have to up the limit a bit with `sys.setrecursionlimit(N)` at the start of your program."
   ]
  },
  {
   "cell_type": "markdown",
   "metadata": {
    "deletable": false,
    "editable": false,
    "nbgrader": {
     "cell_type": "markdown",
     "checksum": "eabb8a9c923ea05eff93be1ce264908d",
     "grade": false,
     "grade_id": "cell-2b28b3254279647d",
     "locked": true,
     "schema_version": 3,
     "solution": false,
     "task": false
    }
   },
   "source": [
    "## Exercise 4: Where's My Internet??\n",
    "We will solve the Kattis problem [Where's My Internet??](https://open.kattis.com/problems/wheresmyinternet). Read the problem statement, and finish the code below."
   ]
  },
  {
   "cell_type": "code",
   "execution_count": 73,
   "metadata": {
    "deletable": false,
    "nbgrader": {
     "cell_type": "code",
     "checksum": "93efbc1a323970b98b62fcdb06dbf171",
     "grade": false,
     "grade_id": "cell-d7fae5c9cf7f7879",
     "locked": false,
     "schema_version": 3,
     "solution": true,
     "task": false
    }
   },
   "outputs": [],
   "source": [
    "def wheres_my_internet():\n",
    "    # Read first line: V vertices, E edges\n",
    "    V, E = [int(x) for x in input().split()]\n",
    "\n",
    "    # Create an empty edge list and read edges into it.\n",
    "    edges = []\n",
    "    for _ in range(E):\n",
    "        a, b = [int(x) for x in input().split()]\n",
    "        edges.append([a,b])\n",
    "    \n",
    "    # Convert the 1-based edge list you read to a 0-based adjacency list.\n",
    "    adjlist = edge2adj_undirected(V, E, edges)\n",
    "    for v in range(len(adjlist)):\n",
    "        seen = [False for _ in adjlist]\n",
    "    DFS(1, adjlist, seen)\n",
    "\n",
    "    for i in range(len(seen)):\n",
    "        if(seen[i] == False):\n",
    "            print(i + 1)\n",
    "    # Solve the problem using the previous exercises. Print the result.\n",
    "    "
   ]
  },
  {
   "cell_type": "code",
   "execution_count": 74,
   "metadata": {
    "deletable": false,
    "editable": false,
    "nbgrader": {
     "cell_type": "code",
     "checksum": "d6219fd35ead725448445214af7f88c1",
     "grade": true,
     "grade_id": "cell-443a4be5f9097c5e",
     "locked": true,
     "points": 2,
     "schema_version": 3,
     "solution": false,
     "task": false
    }
   },
   "outputs": [
    {
     "name": "stdout",
     "output_type": "stream",
     "text": [
      "5\n",
      "6\n"
     ]
    }
   ],
   "source": [
    "# TEST that the function prints the right solution\n",
    "stdin = StringIO('6 4\\n1 2\\n2 3\\n3 4\\n5 6\\n')\n",
    "wheres_my_internet()\n",
    "# Verify yourself that this prints:\n",
    "# 5\n",
    "# 6\n",
    "\n",
    "# If it prints a 4 and a 5 instead, don't forget: the question\n",
    "# works with a 1-indexed graph, and you are working\n",
    "# with a 0-indexed graph!\n"
   ]
  },
  {
   "cell_type": "code",
   "execution_count": null,
   "metadata": {},
   "outputs": [],
   "source": []
  }
 ],
 "metadata": {
  "kernelspec": {
   "display_name": "Python 3",
   "language": "python",
   "name": "python3"
  },
  "language_info": {
   "codemirror_mode": {
    "name": "ipython",
    "version": 3
   },
   "file_extension": ".py",
   "mimetype": "text/x-python",
   "name": "python",
   "nbconvert_exporter": "python",
   "pygments_lexer": "ipython3",
   "version": "3.6.9"
  }
 },
 "nbformat": 4,
 "nbformat_minor": 2
}
