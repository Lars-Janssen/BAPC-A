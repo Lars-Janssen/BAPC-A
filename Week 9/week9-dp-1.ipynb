{
 "cells": [
  {
   "cell_type": "markdown",
   "metadata": {},
   "source": [
    "Before you turn this problem in, make sure everything runs as expected. First, **restart the kernel** (in the menubar, select Kernel$\\rightarrow$Restart) and then **run all cells** (in the menubar, select Cell$\\rightarrow$Run All).\n",
    "\n",
    "Make sure you fill in any place that says `YOUR CODE HERE` or \"YOUR ANSWER HERE\", as well as your name and collaborators below:"
   ]
  },
  {
   "cell_type": "code",
   "execution_count": 1,
   "metadata": {},
   "outputs": [],
   "source": [
    "NAME = \"Lars Janssen\""
   ]
  },
  {
   "cell_type": "markdown",
   "metadata": {},
   "source": [
    "---"
   ]
  },
  {
   "cell_type": "markdown",
   "metadata": {},
   "source": [
    "For those not familiar with Python, a quick overview is given [here](https://github.com/palcu/python-for-competitive-programming/blob/master/python-for-competitive-programming.ipynb)."
   ]
  },
  {
   "cell_type": "markdown",
   "metadata": {},
   "source": [
    "# Notebook BAPC week 9: Dynamic Programming I"
   ]
  },
  {
   "cell_type": "code",
   "execution_count": 2,
   "metadata": {},
   "outputs": [],
   "source": [
    "from io import StringIO\n",
    "from sys import stdin\n",
    "# Overwrite the jupyter input function.\n",
    "def input():\n",
    "    return stdin.readline()"
   ]
  },
  {
   "cell_type": "markdown",
   "metadata": {},
   "source": [
    "## Cent Savings\n",
    "\n",
    "Because Dynamic Programming is mostly about practice, this notebook will be a little shorter than usual. We will produce a solution for the Kattis problem [Cent Savings](https://open.kattis.com/problems/centsavings), first using top-down DP (with an array instead of a dictionary) and afterwards using bottom-up DP. Read the problem.\n",
    "\n",
    "### A rounding function\n",
    "One of the very first things we will need is a function `round10` to round positive integers to the nearest multiple of 10. Finish the code in the cell below."
   ]
  },
  {
   "cell_type": "code",
   "execution_count": 1,
   "metadata": {
    "deletable": false,
    "nbgrader": {
     "cell_type": "code",
     "checksum": "947b358b02ea5c900f1db3a3b061b082",
     "grade": false,
     "grade_id": "cell-eb4234ea3edd72df",
     "locked": false,
     "schema_version": 3,
     "solution": true,
     "task": false
    }
   },
   "outputs": [],
   "source": [
    "def round10(n):\n",
    "    return int((n+5)/10)*10"
   ]
  },
  {
   "cell_type": "code",
   "execution_count": null,
   "metadata": {},
   "outputs": [],
   "source": []
  },
  {
   "cell_type": "code",
   "execution_count": 6,
   "metadata": {
    "deletable": false,
    "editable": false,
    "nbgrader": {
     "cell_type": "code",
     "checksum": "d0b5fff4e82e9b2b72b8d75e0b891908",
     "grade": true,
     "grade_id": "cell-c36a028ffdc4719d",
     "locked": true,
     "points": 1,
     "schema_version": 3,
     "solution": false,
     "task": false
    }
   },
   "outputs": [],
   "source": [
    "assert round10(94) == 90\n",
    "assert round10(95) == 100"
   ]
  },
  {
   "cell_type": "markdown",
   "metadata": {},
   "source": [
    "### The first sample input\n",
    "Given 5 items with costs `[13, 21, 55, 60, 42]` and a single divider, the minimum total cost is 190. In fact, all solutions yield a total cost of 190:"
   ]
  },
  {
   "cell_type": "code",
   "execution_count": null,
   "metadata": {},
   "outputs": [],
   "source": [
    "items = [13, 21, 55, 60, 42]\n",
    "for i in range(1, 5):\n",
    "    assert 190 == round10(sum(items[:i])) + round10(sum(items[i:]))"
   ]
  },
  {
   "cell_type": "markdown",
   "metadata": {},
   "source": [
    "### A first solution using recursion\n",
    "If we let `cost(n,d)` be the minimum total cost of buying the first `n` items with `d` dividers, we can make a few initial observations:\n",
    "* `cost(0,d) = 0` trivially.\n",
    "* `cost(n,0) = round10(sum(items[:n]))`, because there is no divider to place and we just have to \"ring up\" the first `n` items.\n",
    "* Our answer will be `cost(N, D)`.\n",
    "\n",
    "Our main task will be to compute `cost(n, d)` given the result of subproblems. The key observation here is the following:\n",
    "* If we know `cost(k, d-1)` for some `k < n`, placing a divider between items `k` and `k+1` yields a total cost of `cost(k, d-1)` plus the cost of all items from `k+1` to `n`.\n",
    "* By minimizing the above over all `k < n`, we get `cost(n, d)`.\n",
    "\n",
    "This allows us to produce our first recursive solution. Finish the code below."
   ]
  },
  {
   "cell_type": "code",
   "execution_count": 56,
   "metadata": {
    "deletable": false,
    "nbgrader": {
     "cell_type": "code",
     "checksum": "fe9a59638d7bc5271d2d9ada243c6cd6",
     "grade": false,
     "grade_id": "cell-c29cd1cda8ab8ffb",
     "locked": false,
     "schema_version": 3,
     "solution": true,
     "task": false
    }
   },
   "outputs": [],
   "source": [
    "def centsavings_recur(items, D):\n",
    "    def cost(n, d):\n",
    "        # In this nested function, the variables `N` and `items` are available.\n",
    "        if n == 0:\n",
    "            return 0\n",
    "        if d == 0:\n",
    "            return round10(sum(items[:n]))\n",
    "        bestprice = round10(sum(items[:n]))\n",
    "        for k in range(0,n):\n",
    "            bestprice = min(bestprice, cost(k, d-1) + round10(sum(items[k:n])))\n",
    "        return bestprice\n",
    "                \n",
    "    N = len(items)\n",
    "    return cost(N, D)"
   ]
  },
  {
   "cell_type": "code",
   "execution_count": null,
   "metadata": {},
   "outputs": [],
   "source": []
  },
  {
   "cell_type": "code",
   "execution_count": 59,
   "metadata": {
    "deletable": false,
    "editable": false,
    "nbgrader": {
     "cell_type": "code",
     "checksum": "c99c645f9012f8724eec87a420740dba",
     "grade": true,
     "grade_id": "cell-432fa1ecf458b861",
     "locked": true,
     "points": 1,
     "schema_version": 3,
     "solution": false,
     "task": false
    }
   },
   "outputs": [
    {
     "name": "stdout",
     "output_type": "stream",
     "text": [
      "CPU times: user 430 ms, sys: 0 ns, total: 430 ms\n",
      "Wall time: 429 ms\n"
     ]
    },
    {
     "data": {
      "text/plain": [
       "True"
      ]
     },
     "execution_count": 59,
     "metadata": {},
     "output_type": "execute_result"
    }
   ],
   "source": [
    "assert centsavings_recur([13, 21, 55, 60, 42], 1) == 190\n",
    "assert centsavings_recur([1, 1, 1, 1, 1], 2) == 0\n",
    "for i in range(1, 10):\n",
    "    assert centsavings_recur([10] * 10, i) == 100\n",
    "assert centsavings_recur([5, 6, 5, 5, 7, 6, 1], 2) == 30\n",
    "\n",
    "%time centsavings_recur([10] * 20, 10) == 200\n",
    "#%time centsavings_recur([10] * 30, i) == 300  # This one will take an awfully long time to finish."
   ]
  },
  {
   "cell_type": "markdown",
   "metadata": {},
   "source": [
    "### A second solution using top-down DP\n",
    "The above code will produce the right solution, however it is too slow. We are not yet exploiting the \"overlapping subproblems\" property that makes DP problems efficient to solve. We will add a memoization array -- a memoization dictionary will be too slow for this problem. Finish the code below. It should be a minimal change relative to `centsavings_recur`."
   ]
  },
  {
   "cell_type": "code",
   "execution_count": 112,
   "metadata": {
    "deletable": false,
    "nbgrader": {
     "cell_type": "code",
     "checksum": "897d472ae43fe884f5dfd6a09925078c",
     "grade": false,
     "grade_id": "cell-4031d0b38acd5109",
     "locked": false,
     "schema_version": 3,
     "solution": true,
     "task": false
    }
   },
   "outputs": [],
   "source": [
    "def centsavings_memo(items, D):\n",
    "    def cost(n, d):\n",
    "        # In this nested function, the variables `memo`, `N` and `items` are available.\n",
    "        if memo[n][d] == 10**9:\n",
    "            if n == 0:\n",
    "                return 0\n",
    "            if d == 0:\n",
    "                return round10(sum(items[:n]))\n",
    "            # Be sure to *set* memo[n][d]!\n",
    "            best = round10(sum(items[:n]))\n",
    "            for k in range(0,n):\n",
    "                best = min(best, cost(k, d-1) + round10(sum(items[k:n])))\n",
    "            memo[n][d] = best\n",
    "            return best\n",
    "        return memo[n][d]\n",
    "    \n",
    "    N = len(items)\n",
    "    memo = [[10**9 for _ in range(D+1)] for _ in range(N+1)]\n",
    "    return cost(N, D)"
   ]
  },
  {
   "cell_type": "code",
   "execution_count": null,
   "metadata": {},
   "outputs": [],
   "source": []
  },
  {
   "cell_type": "code",
   "execution_count": 113,
   "metadata": {
    "deletable": false,
    "editable": false,
    "nbgrader": {
     "cell_type": "code",
     "checksum": "23c235389e5675bcb01c3a6c1b7fa0f5",
     "grade": true,
     "grade_id": "cell-9d392ad48756eba0",
     "locked": true,
     "points": 1,
     "schema_version": 3,
     "solution": false,
     "task": false
    }
   },
   "outputs": [
    {
     "name": "stdout",
     "output_type": "stream",
     "text": [
      "Collecting stopit\n",
      "Installing collected packages: stopit\n",
      "Successfully installed stopit-1.1.2\n"
     ]
    }
   ],
   "source": [
    "assert centsavings_memo([13, 21, 55, 60, 42], 1) == 190, \"Did you remember to set memo[n][d]?\"\n",
    "assert centsavings_memo([1, 1, 1, 1, 1], 2) == 0\n",
    "for i in range(1, 10):\n",
    "    assert centsavings_memo([10] * 10, i) == 100\n",
    "assert centsavings_memo([5, 6, 5, 5, 7, 6, 1], 2) == 30\n",
    "\n",
    "# Note: the first time you run this cell, this code may install an extra Python package on your computer.\n",
    "import sys\n",
    "!{sys.executable} -m pip install stopit\n",
    "import stopit\n",
    "\n",
    "with stopit.ThreadingTimeout(3.0) as t:\n",
    "    assert centsavings_memo([10] * 200, 20) == 2000\n",
    "assert t.state == t.EXECUTED, \"Your code is too slow. The change should be minimal w.r.t `centsavings_recur`!\""
   ]
  },
  {
   "cell_type": "markdown",
   "metadata": {},
   "source": [
    "### A third solution using top-down DP and cumulative sums\n",
    "The previous code again produces the right solution, but its runtime of $\\mathcal O(N^3 D)$ is still too slow to work for the largest input size $N=2000, D=20$. The problem here is that we keep recomputing the same *range-sums* `sum(items[k:n])` many times. We can circumvent this problem by observing that\n",
    "`sum(items[k:n]) == sum(items[:n]) - sum(items[:k])`. Therefore, if we precompute the *cumulative sums* `sum(items[:k])`, we may extract the range-sums for free. Use this insight to finish the code below."
   ]
  },
  {
   "cell_type": "code",
   "execution_count": 213,
   "metadata": {
    "deletable": false,
    "nbgrader": {
     "cell_type": "code",
     "checksum": "67d35be5abc2f8a68bc845aa40d9bde7",
     "grade": false,
     "grade_id": "cell-1b23b4c1fdcc3fed",
     "locked": false,
     "schema_version": 3,
     "solution": true,
     "task": false
    }
   },
   "outputs": [],
   "source": [
    "def centsavings_td(items, D):\n",
    "    def cost(n, d):\n",
    "        # In this nested function, the variables `cumsums`, `memo`, `N` and `items` are available.\n",
    "        if memo[n][d] == 10**9:\n",
    "            # The code below should be a minimal change to `centsavings_memo`.\n",
    "            # YOUR CODE HERE\n",
    "            if n == 0:\n",
    "                return 0\n",
    "            if d == 0:\n",
    "                return round10(cumsums[n])\n",
    "            # Be sure to *set* memo[n][d]!\n",
    "            best = round10(cumsums[-1])\n",
    "            for k in range(0,n):\n",
    "                best = min(best, cost(k, d-1) + round10(cumsums[n] - cumsums[k]))\n",
    "            memo[n][d] = best\n",
    "            return best\n",
    "        return memo[n][d]\n",
    "    \n",
    "    N = len(items)\n",
    "    cumsums = [0 for _ in range(N+1)]\n",
    "    # Fill the cumsums list.\n",
    "    # YOUR CODE HERE\n",
    "    for k in range(0,N+1):\n",
    "        cumsums[k] = sum(items[:k])\n",
    "    assert cumsums[-1] == sum(items), \"Did you fill the `cumsums` list until its final index?\"\n",
    "    memo = [[10**9 for _ in range(D+1)] for _ in range(N+1)]\n",
    "    print(cost(N,D))\n",
    "    return cost(N, D)"
   ]
  },
  {
   "cell_type": "code",
   "execution_count": null,
   "metadata": {},
   "outputs": [],
   "source": []
  },
  {
   "cell_type": "code",
   "execution_count": 215,
   "metadata": {
    "deletable": false,
    "editable": false,
    "nbgrader": {
     "cell_type": "code",
     "checksum": "2ba977331e69cc787ef9928dd9cc5ae5",
     "grade": true,
     "grade_id": "cell-13a2f343b20a024d",
     "locked": true,
     "points": 1,
     "schema_version": 3,
     "solution": false,
     "task": false
    }
   },
   "outputs": [
    {
     "name": "stdout",
     "output_type": "stream",
     "text": [
      "Collecting stopit\n",
      "Installing collected packages: stopit\n",
      "Successfully installed stopit-1.1.2\n"
     ]
    }
   ],
   "source": [
    "assert centsavings_td([13, 21, 55, 60, 42], 1) == 190\n",
    "assert centsavings_td([1, 1, 1, 1, 1], 2) == 0\n",
    "for i in range(1, 10):\n",
    "    assert centsavings_td([10] * 10, i) == 100\n",
    "assert centsavings_td([5, 6, 5, 5, 7, 6, 1], 2) == 30\n",
    "\n",
    "# Note: the first time you run this cell, this code may install an extra Python package on your computer.\n",
    "import sys\n",
    "!{sys.executable} -m pip install stopit\n",
    "import stopit\n",
    "\n",
    "with stopit.ThreadingTimeout(3.0) as t:\n",
    "    assert centsavings_td([1] * 2000, 2) == 1990\n",
    "assert t.state == t.EXECUTED, \"Your code is too slow. Did you use the `cumsums` variable everywhere you could, also in the case `d=0`?\""
   ]
  },
  {
   "cell_type": "markdown",
   "metadata": {},
   "source": [
    "### A forth solution using bottom-up DP and cumulative sums\n",
    "Instead of recurring top-down and exploiting the memoization array for the subproblems, we can also start bottom-up and build the solution as we go. Finish the code below."
   ]
  },
  {
   "cell_type": "code",
   "execution_count": 14,
   "metadata": {
    "deletable": false,
    "nbgrader": {
     "cell_type": "code",
     "checksum": "017cfd6a7e5c9b6c586eb35fb829f300",
     "grade": false,
     "grade_id": "cell-e05066e9f39ce34e",
     "locked": false,
     "schema_version": 3,
     "solution": true,
     "task": false
    }
   },
   "outputs": [],
   "source": [
    "def centsavings_bu(items, D):\n",
    "    N = len(items)\n",
    "    cumsums = [0 for _ in range(N+1)]\n",
    "    # Fill the cumsums list.\n",
    "    # YOUR CODE HERE\n",
    "    for k in range(1,N+1):\n",
    "        cumsums[k] = cumsums[k-1] + items[k-1]\n",
    "    assert cumsums[-1] == sum(items), \"Did you fill the `cumsums` list until its final index?\"\n",
    "    \n",
    "    cost = [[10**9 for _ in range(D+1)] for _ in range(N+1)]\n",
    "    # Initialize the base cases.\n",
    "    for d in range(D+1):\n",
    "        cost[0][d] = 0\n",
    "    for n in range(N+1):\n",
    "        cost[n][0] = round10(cumsums[n])\n",
    "        \n",
    "    # Build the DP matrix bottom-up.\n",
    "    for d in range(1, D+1):\n",
    "        for n in range(1, N+1):\n",
    "            for k in range(0,n):\n",
    "                cost[n][d] = min(cost[n][d], cost[k][d-1] + round10(cumsums[n] - cumsums[k]))\n",
    "    return cost[n][d]"
   ]
  },
  {
   "cell_type": "code",
   "execution_count": null,
   "metadata": {},
   "outputs": [],
   "source": []
  },
  {
   "cell_type": "code",
   "execution_count": 15,
   "metadata": {
    "deletable": false,
    "editable": false,
    "nbgrader": {
     "cell_type": "code",
     "checksum": "df9f80689faca35cd8024373d22f9a61",
     "grade": true,
     "grade_id": "cell-41952546d310a08f",
     "locked": true,
     "points": 1,
     "schema_version": 3,
     "solution": false,
     "task": false
    }
   },
   "outputs": [
    {
     "name": "stdout",
     "output_type": "stream",
     "text": [
      "Collecting stopit\n",
      "Installing collected packages: stopit\n",
      "Successfully installed stopit-1.1.2\n"
     ]
    }
   ],
   "source": [
    "assert centsavings_bu([13, 21, 55, 60, 42], 1) == 190\n",
    "assert centsavings_bu([1, 1, 1, 1, 1], 2) == 0\n",
    "for i in range(1, 10):\n",
    "    assert centsavings_bu([10] * 10, i) == 100\n",
    "assert centsavings_bu([5, 6, 5, 5, 7, 6, 1], 2) == 30\n",
    "\n",
    "# Note: the first time you run this cell, this code may install an extra Python package on your computer.\n",
    "import sys\n",
    "!{sys.executable} -m pip install stopit\n",
    "import stopit\n",
    "\n",
    "with stopit.ThreadingTimeout(3.0) as t:\n",
    "    assert centsavings_bu([10] * 200, 20) == 2000\n",
    "assert t.state == t.EXECUTED, \"Your code is too slow. :-(\"\n",
    "\n",
    "with stopit.ThreadingTimeout(3.0) as t:\n",
    "    assert centsavings_bu([1] * 2000, 2) == 1990\n",
    "assert t.state == t.EXECUTED, \"Your code is too slow. :-(\""
   ]
  },
  {
   "cell_type": "markdown",
   "metadata": {},
   "source": [
    "### Final assignment\n",
    "Now choose either the bottom-up or the top-down solution and send it to Kattis to grab that \"Accepted\"!"
   ]
  }
 ],
 "metadata": {
  "kernelspec": {
   "display_name": "Python 3",
   "language": "python",
   "name": "python3"
  },
  "language_info": {
   "codemirror_mode": {
    "name": "ipython",
    "version": 3
   },
   "file_extension": ".py",
   "mimetype": "text/x-python",
   "name": "python",
   "nbconvert_exporter": "python",
   "pygments_lexer": "ipython3",
   "version": "3.6.9"
  }
 },
 "nbformat": 4,
 "nbformat_minor": 4
}
