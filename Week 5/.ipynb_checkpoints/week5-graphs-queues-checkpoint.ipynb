{
 "cells": [
  {
   "cell_type": "markdown",
   "metadata": {},
   "source": [
    "Before you turn this problem in, make sure everything runs as expected. First, **restart the kernel** (in the menubar, select Kernel$\\rightarrow$Restart) and then **run all cells** (in the menubar, select Cell$\\rightarrow$Run All).\n",
    "\n",
    "Make sure you fill in any place that says `YOUR CODE HERE` or \"YOUR ANSWER HERE\", as well as your name and collaborators below:"
   ]
  },
  {
   "cell_type": "code",
   "execution_count": 1,
   "metadata": {},
   "outputs": [],
   "source": [
    "NAME = \"Lars Janssen\""
   ]
  },
  {
   "cell_type": "markdown",
   "metadata": {},
   "source": [
    "---"
   ]
  },
  {
   "cell_type": "markdown",
   "metadata": {},
   "source": [
    "For those not familiar with Python, a quick overview is given [here](https://github.com/palcu/python-for-competitive-programming/blob/master/python-for-competitive-programming.ipynb)."
   ]
  },
  {
   "cell_type": "markdown",
   "metadata": {
    "deletable": false,
    "editable": false,
    "nbgrader": {
     "cell_type": "markdown",
     "checksum": "dde4a8b44ceb74108a011e178f6dd687",
     "grade": false,
     "grade_id": "cell-5d086d64b8fde0b8",
     "locked": true,
     "schema_version": 3,
     "solution": false,
     "task": false
    }
   },
   "source": [
    "# Notebook BAPC week 5: Graphs and BFS"
   ]
  },
  {
   "cell_type": "code",
   "execution_count": 2,
   "metadata": {},
   "outputs": [],
   "source": [
    "# Run the following piece of code!\n",
    "\n",
    "# This asserts that we are running Python 3.\n",
    "import sys\n",
    "assert sys.version_info >= (3,)\n",
    "\n",
    "import random\n",
    "import time\n",
    "\n",
    "# This allows us to emulate command line I/O.\n",
    "# Don't worry about how it works.\n",
    "from contextlib import redirect_stdout\n",
    "from io import StringIO\n",
    "from sys import stdin\n",
    "# Overwrite the jupyter input function.\n",
    "def input():\n",
    "    return stdin.readline()"
   ]
  },
  {
   "cell_type": "markdown",
   "metadata": {
    "deletable": false,
    "editable": false,
    "nbgrader": {
     "cell_type": "markdown",
     "checksum": "3524fd46c36855c5b5c5f822d2d20a9e",
     "grade": false,
     "grade_id": "cell-41f0a65ddb628d47",
     "locked": true,
     "schema_version": 3,
     "solution": false,
     "task": false
    }
   },
   "source": [
    "## Exercise 1: Queues\n",
    "In Python, a stack can be built using a simple `list`. However, for queues, the story is a little more complicated. If we want to ensure that \"pop-front\" is quick, a simple `list` datastucture will not help even though it has the method `pop(0)`."
   ]
  },
  {
   "cell_type": "code",
   "execution_count": 7,
   "metadata": {},
   "outputs": [
    {
     "name": "stdout",
     "output_type": "stream",
     "text": [
      "Help on built-in function pop:\n",
      "\n",
      "pop(...) method of builtins.list instance\n",
      "    L.pop([index]) -> item -- remove and return item at index (default last).\n",
      "    Raises IndexError if list is empty or index is out of range.\n",
      "\n"
     ]
    }
   ],
   "source": [
    "help(list().pop)"
   ]
  },
  {
   "cell_type": "markdown",
   "metadata": {},
   "source": [
    "To see this in an example, consider the process of popping the first element from a queue. We make a `bad_queue` using a `list`, and pop its first element by `pop(0)`. We make a `good_queue` using `deque` (make sure to `from collections import deque` first!), and pop itsfirst element by `popleft()`."
   ]
  },
  {
   "cell_type": "code",
   "execution_count": 8,
   "metadata": {},
   "outputs": [
    {
     "name": "stdout",
     "output_type": "stream",
     "text": [
      "N =        1, bad queue: 3.8e-07s per pop-front, good queue: 1.8e-07s per pop-front.\n",
      "N =       10, bad queue: 2.3e-07s per pop-front, good queue: 1.9e-07s per pop-front.\n",
      "N =      100, bad queue: 2.1e-07s per pop-front, good queue: 1.3e-07s per pop-front.\n",
      "N =     1000, bad queue: 3.1e-07s per pop-front, good queue: 1.3e-07s per pop-front.\n",
      "N =    10000, bad queue: 1.5e-06s per pop-front, good queue: 1.3e-07s per pop-front.\n",
      "N =   100000, bad queue: 3.4e-05s per pop-front, good queue: 1.5e-07s per pop-front.\n",
      "N =  1000000, bad queue:  0.0008s per pop-front, good queue: 1.5e-07s per pop-front.\n",
      "N = 10000000, bad queue:  0.0099s per pop-front, good queue: 2.2e-07s per pop-front.\n"
     ]
    }
   ],
   "source": [
    "from collections import deque\n",
    "for N in [10**k for k in range(8)]:\n",
    "    \n",
    "    bad_queue = list()\n",
    "    for x in range(N):\n",
    "        bad_queue.append(x)\n",
    "    # Pop and append the same item.\n",
    "    bad_time = %timeit -o -q -r 1 -n 10 bad_queue.append(bad_queue.pop(0))\n",
    "\n",
    "    good_queue = deque()\n",
    "    for x in range(N):\n",
    "        good_queue.append(x)\n",
    "    good_time = %timeit -o -q -r 1 -n 10 good_queue.append(good_queue.popleft())\n",
    "                                                  \n",
    "    print(f\"N = {N: >8}, bad queue: {bad_time.average:>7.2g}s per pop-front, good queue: {good_time.average:>7.2g}s per pop-front.\")"
   ]
  },
  {
   "cell_type": "markdown",
   "metadata": {
    "deletable": false,
    "editable": false,
    "nbgrader": {
     "cell_type": "markdown",
     "checksum": "f2545aede3e487a15e20f51e9a364d03",
     "grade": false,
     "grade_id": "cell-3fa313ce51a30b9c",
     "locked": true,
     "schema_version": 3,
     "solution": false,
     "task": false
    }
   },
   "source": [
    "## Exercise 2: Iterative BFS for single-source distances in a graph\n",
    "Last week, we learned how to code an iterative DFS. A BFS is a *very* straight-forward adaptation to the DFS code so we won't make a notebook exercise implementing just that.\n",
    "\n",
    "However, a BFS can solve a problem that a DFS can't, namely finding the distance from one vertex to all other (reachable) vertices. Finish the code below to find the distance from `v` to all others."
   ]
  },
  {
   "cell_type": "code",
   "execution_count": 13,
   "metadata": {
    "deletable": false,
    "nbgrader": {
     "cell_type": "code",
     "checksum": "96d276c6a7b3574fa00925e60b8b1954",
     "grade": false,
     "grade_id": "cell-0eb3eaf93aa11892",
     "locked": false,
     "schema_version": 3,
     "solution": true,
     "task": false
    }
   },
   "outputs": [],
   "source": [
    "def BFS(v, adjlist):\n",
    "    \"\"\"\n",
    "    Returns a list of distances from v for each vertex of the graph. \n",
    "    A distance of \"-1\" means that the node is not reachable from v.\n",
    "    \"\"\"\n",
    "    queue = deque([v])\n",
    "    dist = [-1 for _ in range(len(adjlist))]\n",
    "    dist[v] = 0\n",
    "    while len(queue) > 0:\n",
    "        v = queue.popleft()\n",
    "        for nbr in adjlist[v]:\n",
    "            if dist[nbr] == -1:\n",
    "                dist[nbr] = dist[v] + 1\n",
    "                queue.append(nbr)\n",
    "    return dist"
   ]
  },
  {
   "cell_type": "code",
   "execution_count": 14,
   "metadata": {
    "deletable": false,
    "editable": false,
    "nbgrader": {
     "cell_type": "code",
     "checksum": "149a1e986131c0515aedb4b5a3313700",
     "grade": true,
     "grade_id": "cell-0fc78657ab9f41b2",
     "locked": true,
     "points": 2,
     "schema_version": 3,
     "solution": false,
     "task": false
    }
   },
   "outputs": [],
   "source": [
    "# TEST that for this connected graph, all vertices have a nonnegative distance.\n",
    "adjlist = [[1,4], [0,2,4], [1,3], [2,4,5], [0,1,3], [3]]\n",
    "assert all(dist >= 0 for dist in BFS(0, adjlist)), \"Somehow BFS does not find every vertex\"\n",
    "\n",
    "# TEST that all distances are correct, even.\n",
    "assert BFS(0, adjlist) == [0, 1, 2, 2, 1, 3], \"BFS gives incorrect result from vertex 0\"\n",
    "assert BFS(1, adjlist) == [1, 0, 1, 2, 1, 3], \"BFS gives incorrect result from vertex 1\"\n",
    "assert BFS(2, adjlist) == [2, 1, 0, 1, 2, 2], \"BFS gives incorrect result from vertex 2\"\n",
    "assert BFS(3, adjlist) == [2, 2, 1, 0, 1, 1], \"BFS gives incorrect result from vertex 3\"\n",
    "assert BFS(4, adjlist) == [1, 1, 2, 1, 0, 2], \"BFS gives incorrect result from vertex 4\"\n",
    "assert BFS(5, adjlist) == [3, 3, 2, 1, 2, 0], \"BFS gives incorrect result from vertex 5\"\n",
    "\n",
    "# TEST that for this unconnected graph, some vertices have negative distance.\n",
    "adjlist = [[1,2], [0], [0], [4], [3]]\n",
    "assert any(dist == -1 for dist in BFS(0, adjlist)), \"Somehow BFS finds *every* vertex from 0\"\n",
    "assert sum(dist >= 0 for dist in BFS(0, adjlist)) == 3\n",
    "\n",
    "# There will be one more HIDDEN TEST, so make sure your implementation \n",
    "# doesn't only work on the two graphs in this test."
   ]
  },
  {
   "cell_type": "code",
   "execution_count": 15,
   "metadata": {},
   "outputs": [
    {
     "name": "stdout",
     "output_type": "stream",
     "text": [
      "Collecting stopit\n",
      "Installing collected packages: stopit\n",
      "Successfully installed stopit-1.1.2\n",
      "All testcases passed.\n"
     ]
    }
   ],
   "source": [
    "# TEST that the solution runs fast enough for some large inputs.\n",
    "# Note: the first time you run this cell, this code may install an extra Python package on your computer.\n",
    "import sys\n",
    "!{sys.executable} -m pip install stopit\n",
    "import stopit\n",
    "\n",
    "input_graphs = [[list(range(v)) + list(range(v+1, 1000)) for v in range(1000)], \n",
    "                [list(range(1, 1_000_000))] + [[0] for _ in range(999_999)],\n",
    "                [list(range(1, 999_999))] + [[0, 999999] for _ in range(999998)] + [list(range(1, 999_999))]]\n",
    "output_lists = [[0] + [1]*999, [0] + [1]*999_999, [0] + [1]*999_998 + [2]]\n",
    "for test_case, (input_graph, output_list) in enumerate(zip(input_graphs, output_lists)):\n",
    "    with stopit.ThreadingTimeout(5.0) as t:\n",
    "        dist = BFS(0, input_graph)\n",
    "    assert t.state == t.EXECUTED, \"Your code is too slow on large test case {test_case + 1}. \" \\\n",
    "        \"Did you use a queue efficiently?\"\n",
    "    if not(dist == output_list):\n",
    "        print(\"Output different!\")\n",
    "        print(\"Expected output: \\n%s\" % \", \".join(str(x) for x in output_list[:30]) + \"...\")\n",
    "        print(\"Found output: \\n%s\" % \", \".join(str(x) for x in dist[:30]) + \"...\")\n",
    "    assert dist == output_list\n",
    "else:\n",
    "    print(\"All testcases passed.\")"
   ]
  },
  {
   "cell_type": "markdown",
   "metadata": {
    "deletable": false,
    "editable": false,
    "nbgrader": {
     "cell_type": "markdown",
     "checksum": "45939209186e5d82f387ddcdb65a1e92",
     "grade": false,
     "grade_id": "cell-3f47033ae6fc3e98",
     "locked": true,
     "schema_version": 3,
     "solution": false,
     "task": false
    }
   },
   "source": [
    "## Exercise 3: Chess Knight problem\n",
    "\n",
    "Consider the classig Chess Knight problem. Given an 8x8 chess board, find the shortest distance (in number of steps taken by a Knight) to reach a given destination. The knight can make the following moves:\n",
    "![](https://www.techiedelight.com/wp-content/uploads/2016/11/Knight-Movements.png)\n",
    "\n",
    "Finish the code below to solve the Chess Knight problem."
   ]
  },
  {
   "cell_type": "code",
   "execution_count": 34,
   "metadata": {
    "deletable": false,
    "nbgrader": {
     "cell_type": "code",
     "checksum": "e982cfd3d359982cf6f568dd5dfe984c",
     "grade": false,
     "grade_id": "cell-0826eb2487953c81",
     "locked": false,
     "schema_version": 3,
     "solution": true,
     "task": false
    }
   },
   "outputs": [],
   "source": [
    "from collections import deque\n",
    "\n",
    "def shortest_knight_distance(source, dest):\n",
    "    \"\"\" Finds the shortest distance from `source` to `dest` on a chess board using knight moves.\n",
    "    \n",
    "    source and dest are tuples, e.g. (0,0) and (7,3).\n",
    "    \"\"\"\n",
    "    assert len(source) == 2 and len(dest) == 2\n",
    "    nodes = []\n",
    "    adjlist = [[] for _ in range(64)]\n",
    "    for i in range(8):\n",
    "        for j in range(8):\n",
    "            nodes.append((i,j))\n",
    "    \n",
    "    for i in range(8):\n",
    "        for j in range(8):\n",
    "            nbrs = [(i-2, j-1), (i-2, j+1), (i-1,j-2), (i-1,j+2), (i+1,j-2), (i+1, j+2), (i+2,j-1), (i+2,j+1)]\n",
    "            for k in range(8):\n",
    "                if(nbrs[k] in nodes):\n",
    "                    adjlist[i+j*8].append(nbrs[k])\n",
    "    \n",
    "    queue = deque([source])\n",
    "    dist = [-1 for _ in range(64)]\n",
    "    dist[0] = 0\n",
    "    while len(queue) > 0:\n",
    "        v = queue.popleft()\n",
    "        i = v[0]\n",
    "        j = v[1]\n",
    "        for nbr in adjlist[i+8*j]:\n",
    "            x = nbr[0]\n",
    "            y = nbr[1]\n",
    "            if(dist[x+8*y] == -1):\n",
    "                dist[x+8*y] = dist[i+8*j] + 1\n",
    "                queue.append(nbr)\n",
    "    \n",
    "    i = dest[0]\n",
    "    j = dest[1]\n",
    "    return dist[i+8*j]"
   ]
  },
  {
   "cell_type": "code",
   "execution_count": 36,
   "metadata": {
    "deletable": false,
    "editable": false,
    "nbgrader": {
     "cell_type": "code",
     "checksum": "49c87fdedd361c0f06b9ff85c9c23a92",
     "grade": true,
     "grade_id": "cell-93c756245a6a90e1",
     "locked": true,
     "points": 2,
     "schema_version": 3,
     "solution": false,
     "task": false
    }
   },
   "outputs": [],
   "source": [
    "# TEST that along a shortest path from (0,0) to (7,7), all distances are correct.\n",
    "assert shortest_knight_distance((0,0), (1, 2)) == 1\n",
    "assert shortest_knight_distance((0,0), (2, 4)) == 2\n",
    "assert shortest_knight_distance((0,0), (3, 2)) == 3\n",
    "assert shortest_knight_distance((0,0), (4, 4)) == 4\n",
    "assert shortest_knight_distance((0,0), (6, 5)) == 5\n",
    "assert shortest_knight_distance((0,0), (7, 7)) == 6"
   ]
  },
  {
   "cell_type": "code",
   "execution_count": null,
   "metadata": {},
   "outputs": [],
   "source": []
  }
 ],
 "metadata": {
  "kernelspec": {
   "display_name": "Python 3",
   "language": "python",
   "name": "python3"
  },
  "language_info": {
   "codemirror_mode": {
    "name": "ipython",
    "version": 3
   },
   "file_extension": ".py",
   "mimetype": "text/x-python",
   "name": "python",
   "nbconvert_exporter": "python",
   "pygments_lexer": "ipython3",
   "version": "3.6.9"
  }
 },
 "nbformat": 4,
 "nbformat_minor": 2
}
