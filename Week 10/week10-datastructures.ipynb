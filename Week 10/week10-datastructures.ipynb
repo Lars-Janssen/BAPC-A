{
 "cells": [
  {
   "cell_type": "markdown",
   "metadata": {},
   "source": [
    "Before you turn this problem in, make sure everything runs as expected. First, **restart the kernel** (in the menubar, select Kernel$\\rightarrow$Restart) and then **run all cells** (in the menubar, select Cell$\\rightarrow$Run All).\n",
    "\n",
    "Make sure you fill in any place that says `YOUR CODE HERE` or \"YOUR ANSWER HERE\", as well as your name and collaborators below:"
   ]
  },
  {
   "cell_type": "code",
   "execution_count": 9,
   "metadata": {},
   "outputs": [],
   "source": [
    "NAME = \"Lars Janssen\""
   ]
  },
  {
   "cell_type": "markdown",
   "metadata": {},
   "source": [
    "---"
   ]
  },
  {
   "cell_type": "markdown",
   "metadata": {},
   "source": [
    "For those not familiar with Python, a quick overview is given [here](https://github.com/palcu/python-for-competitive-programming/blob/master/python-for-competitive-programming.ipynb)."
   ]
  },
  {
   "cell_type": "markdown",
   "metadata": {},
   "source": [
    "# Notebook BAPC week 10: Datastructures"
   ]
  },
  {
   "cell_type": "markdown",
   "metadata": {},
   "source": [
    "## A general remark on reading input\n",
    "When reading *large* amounts of data, `input()` is sometimes too slow.\n",
    "A much faster alternative is to `import sys` and later replace all `input()` by `sys.stdin.readline()`. Note that using `readline`, the line will end in a newline character `\\n`; this doesn't matter when using it to read integers, but watch out if you're using it to read strings. See [this link](https://stackoverflow.com/a/58537094/12354474) if you are interested."
   ]
  },
  {
   "cell_type": "markdown",
   "metadata": {},
   "source": [
    "## Union-Find\n",
    "A Union-Find data structure is a data structure that tracks a set of elements partitioned into a number of disjoint subsets. Implemented correctly, it provides near-constant-time operations to merge existing sets (`union`) and to determine whether elements are in the same set (`same_set`). This data structure plays a key role in *Kruskal's algorithm* for finding the minimum spanning tree of a graph.\n",
    "\n",
    "In this notebook, we will incrementally build an optimal-complexity implementation of Union-Find.\n",
    "\n",
    "The datastructure consists of a list of `parent`s. The `parent` list encodes the \"disjoint set forest\", where each tree represents one disjoint set. Suppose we have 5 disjoint sets\n",
    "![](https://i.imgur.com/2M6MWLX.png)\n",
    "and let `parent[0] = 1` and `parent[2] = 1`, then the disjoint set forest becomes\n",
    "![](https://i.imgur.com/pz7w7Fl.png)\n",
    "If we then set `parent[3] = 2`, we get\n",
    "![](https://i.imgur.com/BA7BgNS.png)\n",
    "\n",
    "As `parent[4] = 4` and `parent[1] = 1`, they are both the roots of their respective disjoint set trees."
   ]
  },
  {
   "cell_type": "markdown",
   "metadata": {},
   "source": [
    "### Exercise 1: a naive implementation\n",
    "\n",
    "\n",
    "We have two abstract methods:\n",
    "* `find(i)` follows the chain of parent pointers from `i` up the tree until it reaches a root element, whose parent is itself. This root element is the representative member of the set to which `i` belongs, and may be `i` itself (as was the case with `i=1` and `i=4` in the previous picture).\n",
    "* `union(i, j)` unites the `i`- and `j`-trees by hanging the `i`-tree as a subtree of the `j`-tree.\n",
    "\n",
    "Consider the following naive implementation of the Union-Find datastructure, and assure yourself that it is correct."
   ]
  },
  {
   "cell_type": "code",
   "execution_count": 10,
   "metadata": {},
   "outputs": [],
   "source": [
    "class NaiveUnionFind:\n",
    "    def __init__(self, N):\n",
    "        \"\"\" A naive Union-Find data structure. \"\"\"\n",
    "        self.parent = list(range(N))\n",
    "\n",
    "    def find(self, i):\n",
    "        \"\"\" Finds the root of the disjoint set that `i` is in. \"\"\"\n",
    "        if self.parent[i] == i:\n",
    "            return i\n",
    "        return self.find(self.parent[i])\n",
    "\n",
    "    def union(self, i, j):\n",
    "        \"\"\" Unites the disjoint sets that `i` and `j` are in. \"\"\"\n",
    "        i_root, j_root = self.find(i), self.find(j)\n",
    "        self.parent[i_root] = j_root\n",
    "        \n",
    "    def same_set(self, i, j):\n",
    "        \"\"\" Returns whether `i` and `j` are in the same disjoint set. \"\"\"\n",
    "        return self.find(i) == self.find(j)"
   ]
  },
  {
   "cell_type": "code",
   "execution_count": 11,
   "metadata": {},
   "outputs": [],
   "source": [
    "# The test case from the lecture.\n",
    "UF = NaiveUnionFind(5)\n",
    "assert not UF.same_set(3, 4)\n",
    "UF.union(3, 4)\n",
    "assert UF.same_set(3, 4)\n",
    "UF.union(1, 4)\n",
    "UF.union(0, 2)"
   ]
  },
  {
   "cell_type": "markdown",
   "metadata": {},
   "source": [
    "This naive implementation has multiple defects, but perhaps the most glaring one is that in the worst case, the disjoint-set trees can be highly skewed and become almost like a linked list:\n",
    "![](https://i.imgur.com/ErECFMg.png)\n",
    "\n",
    "Use the cell below to generate this worst-case scenario for a `NaiveUnionFind` given `N` nodes."
   ]
  },
  {
   "cell_type": "code",
   "execution_count": 12,
   "metadata": {
    "deletable": false,
    "nbgrader": {
     "cell_type": "code",
     "checksum": "72b3113fec7226885ece34863b64a58c",
     "grade": false,
     "grade_id": "cell-62bc8367258661a4",
     "locked": false,
     "schema_version": 3,
     "solution": true,
     "task": false
    }
   },
   "outputs": [],
   "source": [
    "def worst_case(N, UnionFind=NaiveUnionFind):\n",
    "    \"\"\" Unite the elements 0..N-1 in the `worst-case` way.\n",
    "    \n",
    "    Our resulting disjoint set tree will have length N-1. \"\"\"\n",
    "    UF = UnionFind(N)\n",
    "    for i in range(N-1):\n",
    "        UF.union(i, i+1)\n",
    "    return UF"
   ]
  },
  {
   "cell_type": "code",
   "execution_count": 13,
   "metadata": {
    "deletable": false,
    "editable": false,
    "nbgrader": {
     "cell_type": "code",
     "checksum": "fc0c0122922bf7963be676c86cd7d09e",
     "grade": true,
     "grade_id": "cell-814d31f19746ba45",
     "locked": true,
     "points": 1,
     "schema_version": 3,
     "solution": false,
     "task": false
    }
   },
   "outputs": [
    {
     "name": "stdout",
     "output_type": "stream",
     "text": [
      "You will see that the following call is linear in N:\n",
      "for N=100, `same_set(0, N-1)` took 0.014523 ms\n",
      "for N=1000, `same_set(0, N-1)` took 0.172048 ms\n",
      "for N=10000, `same_set(0, N-1)` took 4.136246 ms\n"
     ]
    }
   ],
   "source": [
    "import sys\n",
    "sys.setrecursionlimit(30000)\n",
    "\n",
    "UF_10 = worst_case(10)\n",
    "# Assert that all elements are in the same set.\n",
    "assert all(UF_10.same_set(0, i) for i in range(10))\n",
    "\n",
    "print(\"You will see that the following call is linear in N:\")\n",
    "for N in [100, 1000, 10000]:\n",
    "    UF = worst_case(N)\n",
    "    timing = %timeit -o -r 1 -q UF.same_set(0, N-1)\n",
    "    print(\"for N=%d, `same_set(0, N-1)` took %f ms\" % (N, 1000 * timing.best))"
   ]
  },
  {
   "cell_type": "markdown",
   "metadata": {},
   "source": [
    "### Exercise 2: Union by size\n",
    "The obvious problem is that the disjoint-set trees can have enormous height, which makes the call to `find` an $\\mathcal O(N)$ operation. Instead of always hanging the `i`-tree under `j`, we can hang the *shorter* tree under the *longer* one, resulting in a tree of maximum height $\\mathcal O(\\log N)$. To achieve this, we will keep a `sizes` array which stores information about the size of each disjoint set. Finish the code below."
   ]
  },
  {
   "cell_type": "code",
   "execution_count": 22,
   "metadata": {
    "deletable": false,
    "nbgrader": {
     "cell_type": "code",
     "checksum": "ac5246137f4d9eae9a11eb6c054796af",
     "grade": false,
     "grade_id": "cell-d71b84e462c8b861",
     "locked": false,
     "schema_version": 3,
     "solution": true,
     "task": false
    }
   },
   "outputs": [],
   "source": [
    "class SmarterUnionFind:\n",
    "    def __init__(self, N):\n",
    "        \"\"\" A faster Union-Find data structure. \"\"\"\n",
    "        self.parent = list(range(N))\n",
    "        self.sizes = [1] * N\n",
    "\n",
    "    def find(self, i):\n",
    "        \"\"\" Finds the root of the disjoint set that `i` is in. \"\"\"\n",
    "        if self.parent[i] == i:\n",
    "            return i\n",
    "        return self.find(self.parent[i])\n",
    "\n",
    "    def union(self, i, j):\n",
    "        \"\"\" Unites the disjoint sets that `i` and `j` are in. \"\"\"\n",
    "        i_root, j_root = self.find(i), self.find(j)\n",
    "        if i_root == j_root: return\n",
    "        if self.sizes[i_root] <= self.sizes[j_root]:\n",
    "            i_root, j_root = j_root, i_root\n",
    "        # j_root is now the smaller tree, so hang it under i_root.\n",
    "        self.parent[j_root] = i_root\n",
    "        \n",
    "        # TODO: update the sizes array accordingly.\n",
    "        self.sizes[i_root] += self.sizes[j_root]\n",
    "        \n",
    "    def same_set(self, i, j):\n",
    "        \"\"\" Returns whether `i` and `j` are in the same disjoint set. \"\"\"\n",
    "        return self.find(i) == self.find(j)\n",
    "        \n",
    "    def size(self, i):\n",
    "        \"\"\" Returns the size of the tree that `i` is in. \"\"\"\n",
    "        root = self.find(i)\n",
    "        return self.sizes[root]"
   ]
  },
  {
   "cell_type": "code",
   "execution_count": 23,
   "metadata": {
    "deletable": false,
    "editable": false,
    "nbgrader": {
     "cell_type": "code",
     "checksum": "c5c9ccfef7696769b4f36e8210b899dd",
     "grade": true,
     "grade_id": "cell-9ca15ea59e444456",
     "locked": true,
     "points": 1,
     "schema_version": 3,
     "solution": false,
     "task": false
    }
   },
   "outputs": [],
   "source": [
    "# The test case from the lecture.\n",
    "UF = SmarterUnionFind(5)\n",
    "assert not UF.same_set(3, 4)\n",
    "UF.union(3, 4)\n",
    "assert UF.same_set(3, 4)\n",
    "assert UF.size(3) == UF.size(4) == 2\n",
    "UF.union(1, 4)\n",
    "assert UF.size(1) == UF.size(3) == 3\n",
    "UF.union(0, 2)\n",
    "\n",
    "# The first test case from Tildes.\n",
    "UF = SmarterUnionFind(10)\n",
    "UF.union(0, 9)\n",
    "UF.union(0, 1)\n",
    "UF.union(0, 2)\n",
    "assert UF.size(0) == UF.size(1) == UF.size(2) == 4\n",
    "assert UF.size(3) == 1\n",
    "UF.union(4, 5)\n",
    "assert UF.size(4) == UF.size(5) == 2\n",
    "assert UF.size(9) == 4\n",
    "\n",
    "# The second test case from Tildes.\n",
    "UF = SmarterUnionFind(5)\n",
    "assert UF.size(0) == 1\n",
    "UF.union(0, 1)\n",
    "assert UF.size(0) == 2\n",
    "UF.union(0, 1)\n",
    "assert UF.size(0) == 2\n",
    "UF.union(3, 4)\n",
    "assert UF.size(4) == 2\n",
    "UF.union(0, 4)\n",
    "assert UF.size(1) == 4\n",
    "UF.union(2, 1)\n",
    "assert UF.size(2) == 5"
   ]
  },
  {
   "cell_type": "markdown",
   "metadata": {},
   "source": [
    "The worst-case scenario is somewhat more difficult to build in this case, but rest assured that the previous call is no longer linear time:"
   ]
  },
  {
   "cell_type": "code",
   "execution_count": 24,
   "metadata": {
    "deletable": false,
    "editable": false,
    "nbgrader": {
     "cell_type": "code",
     "checksum": "20e3d5aa4f9835499f3ca4fd973a88ae",
     "grade": true,
     "grade_id": "cell-1fa297bec9f58cac",
     "locked": true,
     "points": 1,
     "schema_version": 3,
     "solution": false,
     "task": false
    }
   },
   "outputs": [
    {
     "name": "stdout",
     "output_type": "stream",
     "text": [
      "You will see that the following call is no longer linear in N:\n",
      "for N=100, `same_set(0, N-1)` took 0.000553 ms\n",
      "for N=1000, `same_set(0, N-1)` took 0.000556 ms\n",
      "for N=10000, `same_set(0, N-1)` took 0.000562 ms\n"
     ]
    }
   ],
   "source": [
    "print(\"You will see that the following call is no longer linear in N:\")\n",
    "for N in [100, 1000, 10000]:\n",
    "    UF = worst_case(N, UnionFind=SmarterUnionFind)\n",
    "    timing = %timeit -o -r 1 -q UF.same_set(0, N-1)\n",
    "    print(\"for N=%d, `same_set(0, N-1)` took %f ms\" % (N, 1000 * timing.best))"
   ]
  },
  {
   "cell_type": "markdown",
   "metadata": {},
   "source": [
    "### Exercise 3: Path compression\n",
    "There is one more low-hanging fruit to speed up `find`, which we call \"path compression\". Path compression flattens the structure of each tree by making every node  `i` point directly to its root whenever `find(i)` is called. In the figure below, we call `find(7)` which flattens the tree for nodes 7, 5, 3, and 2.\n",
    "![](https://raw.githubusercontent.com/e-maxx-eng/e-maxx-eng/master/img/DSU_path_compression.png)\n",
    "\n",
    "This is valid, since each element visited on the way from `i` to its root is part of the same disjoint set. The resulting flatter tree speeds up future `find`-operations. Copy your code from the `union` and `size` functions from Exercise 2 into the code below, and finish the `find` function."
   ]
  },
  {
   "cell_type": "code",
   "execution_count": 26,
   "metadata": {
    "deletable": false,
    "nbgrader": {
     "cell_type": "code",
     "checksum": "8db569a99f3b912a1b7d25c6dae10bb6",
     "grade": false,
     "grade_id": "cell-47b645282868fa4d",
     "locked": false,
     "schema_version": 3,
     "solution": true,
     "task": false
    }
   },
   "outputs": [],
   "source": [
    "class SmartestUnionFind:\n",
    "    def __init__(self, N):\n",
    "        \"\"\" A good and fast Union-Find data structure. \"\"\"\n",
    "        self.parent = list(range(N))\n",
    "        self.sizes = [1] * N\n",
    "\n",
    "    def find(self, i):\n",
    "        \"\"\" Finds the root of the disjoint set that `i` is in. \"\"\"\n",
    "        if self.parent[i] == i:\n",
    "            return i\n",
    "        parent = self.find(self.parent[i])\n",
    "        self.parent[i] = parent\n",
    "        return parent\n",
    "        \n",
    "    def union(self, i, j):\n",
    "        \"\"\" Unites the disjoint sets that `i` and `j` are in. \"\"\"\n",
    "        i_root, j_root = self.find(i), self.find(j)\n",
    "        if i_root == j_root: return\n",
    "        if self.sizes[i_root] <= self.sizes[j_root]:\n",
    "            i_root, j_root = j_root, i_root\n",
    "        # j_root is now the smaller tree, so hang it under i_root.\n",
    "        self.parent[j_root] = i_root\n",
    "        \n",
    "        # TODO: update the sizes array accordingly.\n",
    "        self.sizes[i_root] += self.sizes[j_root]\n",
    "        \n",
    "    def same_set(self, i, j):\n",
    "        \"\"\" Returns whether `i` and `j` are in the same disjoint set. \"\"\"\n",
    "        return self.find(i) == self.find(j)\n",
    "        \n",
    "    def size(self, i):\n",
    "        \"\"\" Returns the size of the tree that `i` is in. \"\"\"\n",
    "        root = self.find(i)\n",
    "        return self.sizes[root]"
   ]
  },
  {
   "cell_type": "code",
   "execution_count": 27,
   "metadata": {
    "deletable": false,
    "editable": false,
    "nbgrader": {
     "cell_type": "code",
     "checksum": "953b8299ce4db46b26f484876c99fb67",
     "grade": true,
     "grade_id": "cell-8fe4a36085164cea",
     "locked": true,
     "points": 1,
     "schema_version": 3,
     "solution": false,
     "task": false
    }
   },
   "outputs": [],
   "source": [
    "# The test case from the lecture.\n",
    "UF = SmartestUnionFind(5)\n",
    "assert not UF.same_set(3, 4)\n",
    "UF.union(3, 4)\n",
    "assert UF.same_set(3, 4)\n",
    "assert UF.size(3) == UF.size(4) == 2\n",
    "UF.union(1, 4)\n",
    "assert UF.size(1) == UF.size(3) == 3\n",
    "UF.union(0, 2)\n",
    "\n",
    "# The first test case from Tildes.\n",
    "UF = SmartestUnionFind(10)\n",
    "UF.union(0, 9)\n",
    "UF.union(0, 1)\n",
    "UF.union(0, 2)\n",
    "assert UF.size(0) == UF.size(1) == UF.size(2) == 4\n",
    "assert UF.size(3) == 1\n",
    "UF.union(4, 5)\n",
    "assert UF.size(4) == UF.size(5) == 2\n",
    "assert UF.size(9) == 4\n",
    "\n",
    "# The second test case from Tildes.\n",
    "UF = SmartestUnionFind(5)\n",
    "assert UF.size(0) == 1\n",
    "UF.union(0, 1)\n",
    "assert UF.size(0) == 2\n",
    "UF.union(0, 1)\n",
    "assert UF.size(0) == 2\n",
    "UF.union(3, 4)\n",
    "assert UF.size(4) == 2\n",
    "UF.union(0, 4)\n",
    "assert UF.size(1) == 4\n",
    "UF.union(2, 1)\n",
    "assert UF.size(2) == 5"
   ]
  },
  {
   "cell_type": "markdown",
   "metadata": {},
   "source": [
    "### Exercise 4: Tildes\n",
    "Finish the Kattis problem [Tildes](https://open.kattis.com/problems/tildes)! Be sure to read [this](#A-general-remark-on-reading-input) too."
   ]
  }
 ],
 "metadata": {
  "kernelspec": {
   "display_name": "Python 3",
   "language": "python",
   "name": "python3"
  },
  "language_info": {
   "codemirror_mode": {
    "name": "ipython",
    "version": 3
   },
   "file_extension": ".py",
   "mimetype": "text/x-python",
   "name": "python",
   "nbconvert_exporter": "python",
   "pygments_lexer": "ipython3",
   "version": "3.6.9"
  }
 },
 "nbformat": 4,
 "nbformat_minor": 4
}
