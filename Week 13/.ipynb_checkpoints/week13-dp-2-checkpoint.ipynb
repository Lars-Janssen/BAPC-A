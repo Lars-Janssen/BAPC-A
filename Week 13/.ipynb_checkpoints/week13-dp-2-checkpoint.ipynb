{
 "cells": [
  {
   "cell_type": "markdown",
   "metadata": {},
   "source": [
    "Before you turn this problem in, make sure everything runs as expected. First, **restart the kernel** (in the menubar, select Kernel$\\rightarrow$Restart) and then **run all cells** (in the menubar, select Cell$\\rightarrow$Run All).\n",
    "\n",
    "Make sure you fill in any place that says `YOUR CODE HERE` or \"YOUR ANSWER HERE\", as well as your name and collaborators below:"
   ]
  },
  {
   "cell_type": "code",
   "execution_count": 1,
   "metadata": {},
   "outputs": [],
   "source": [
    "NAME = \"Lars Janssen\""
   ]
  },
  {
   "cell_type": "markdown",
   "metadata": {},
   "source": [
    "---"
   ]
  },
  {
   "cell_type": "markdown",
   "metadata": {},
   "source": [
    "For those not familiar with Python, a quick overview is given [here](https://github.com/palcu/python-for-competitive-programming/blob/master/python-for-competitive-programming.ipynb)."
   ]
  },
  {
   "cell_type": "markdown",
   "metadata": {},
   "source": [
    "# Notebook BAPC week 13: Dynamic Programming II"
   ]
  },
  {
   "cell_type": "code",
   "execution_count": 2,
   "metadata": {},
   "outputs": [],
   "source": [
    "from io import StringIO\n",
    "from sys import stdin\n",
    "# Overwrite the jupyter input function.\n",
    "def input():\n",
    "    return stdin.readline()"
   ]
  },
  {
   "cell_type": "markdown",
   "metadata": {},
   "source": [
    "## The 0-1 Knapsack problem\n",
    "\n",
    "Given the weights and values of $N$ items, the goal is to put items into a knapsack of capacity $W$ and maximize the total value in the knapsack. This problem is called 0-1 knapsack when you can pick every item either 0 or 1 times; there are no copies.\n",
    "![](https://miro.medium.com/max/1368/0*3dS6Jw8NzzSD-mn8.jpg)\n",
    "\n",
    "### Exercise 1: A brute force solution\n",
    "Let us first build a naive brute force solution by just simply enumerating all possible subsets of the items. We can encode a subset as a list of ones and zeros (`subset[n-1] == 1` when item `n` is in the subset, and `0` else). Computing the total value and weight for a given subset is simple, so this leads to a (very slow) solution of the 0-1 Knapsack problem.\n",
    "\n",
    "Encoding these subsets can be done efficiently using a bitmask: on the computer, an integer is basically a list of ones and zeros, and bit `n-1` (counted from the right) is set exactly when item `n` is in our subset. First, finish the function `is_bit_set` below."
   ]
  },
  {
   "cell_type": "code",
   "execution_count": 102,
   "metadata": {
    "deletable": false,
    "nbgrader": {
     "cell_type": "code",
     "checksum": "7f52957c5ad41ec31405eba941a95169",
     "grade": false,
     "grade_id": "cell-eb46c8cdffa0ecd0",
     "locked": false,
     "schema_version": 3,
     "solution": true,
     "task": false
    }
   },
   "outputs": [],
   "source": [
    "def is_bit_set(subset, n):\n",
    "    \"\"\" Returns whether bit `n` is set in the integer `subset`. \"\"\"\n",
    "    assert n >= 0\n",
    "    binair = bin(subset)[2:]\n",
    "    binair = binair[::-1]\n",
    "    if(n < len(binair) and binair[n] == \"1\"):\n",
    "        return True\n",
    "    else:\n",
    "        return False"
   ]
  },
  {
   "cell_type": "code",
   "execution_count": 103,
   "metadata": {
    "deletable": false,
    "editable": false,
    "nbgrader": {
     "cell_type": "code",
     "checksum": "0c76032bdd34453aa98089c5fcc443c1",
     "grade": true,
     "grade_id": "cell-c6a00ff97b5e89d3",
     "locked": true,
     "points": 1,
     "schema_version": 3,
     "solution": false,
     "task": false
    }
   },
   "outputs": [
    {
     "name": "stdout",
     "output_type": "stream",
     "text": [
      "0 in binary is 0b0. Its bits are enumerated as 0\n",
      "1 in binary is 0b1. Its bits are enumerated as 1\n",
      "2 in binary is 0b10. Its bits are enumerated as 0, 1\n",
      "3 in binary is 0b11. Its bits are enumerated as 1, 1\n",
      "4 in binary is 0b100. Its bits are enumerated as 0, 0, 1\n",
      "5 in binary is 0b101. Its bits are enumerated as 1, 0, 1\n",
      "6 in binary is 0b110. Its bits are enumerated as 0, 1, 1\n",
      "7 in binary is 0b111. Its bits are enumerated as 1, 1, 1\n",
      "8 in binary is 0b1000. Its bits are enumerated as 0, 0, 0, 1\n",
      "9 in binary is 0b1001. Its bits are enumerated as 1, 0, 0, 1\n"
     ]
    }
   ],
   "source": [
    "for n in range(10):\n",
    "    print(\"%s in binary is %s. Its bits are enumerated as %s\" % (n, bin(n), ', '.join(reversed(bin(n)[2:]))))\n",
    "assert is_bit_set(1, 0) and not is_bit_set(1, 1)\n",
    "assert is_bit_set(2, 1) and not is_bit_set(2, 0)\n",
    "assert is_bit_set(3, 1) and is_bit_set(3, 1)"
   ]
  },
  {
   "cell_type": "markdown",
   "metadata": {},
   "source": [
    "Study the `knapsack_bruteforce` code and answer the question below it. Note that the `values` and `weights` lists are zero-indexed while our `items` list is 1-indexed."
   ]
  },
  {
   "cell_type": "code",
   "execution_count": 104,
   "metadata": {},
   "outputs": [],
   "source": [
    "def knapsack_bruteforce(W, values, weights):\n",
    "    N = len(values)\n",
    "    max_value = 0\n",
    "    for subset in range(2**N):\n",
    "        items = [n for n in range(1, N+1) if is_bit_set(subset, n-1)]\n",
    "        items_value = sum(values[n-1] for n in items)\n",
    "        items_weight = sum(weights[n-1] for n in items)\n",
    "        if items_value > max_value and items_weight <= W:\n",
    "            max_value = items_value\n",
    "    return max_value"
   ]
  },
  {
   "cell_type": "code",
   "execution_count": 105,
   "metadata": {},
   "outputs": [],
   "source": [
    "assert knapsack_bruteforce(5, [1, 10, 100], [5, 5, 5]) == 100\n",
    "assert knapsack_bruteforce(6, [5, 4, 3, 2], [4, 3, 2, 1]) == 9\n",
    "assert knapsack_bruteforce(50, [60, 100, 120], [10, 20, 30]) == 220\n",
    "assert knapsack_bruteforce(10, [10, 40, 30, 50], [5, 4, 6, 3]) == 90"
   ]
  },
  {
   "cell_type": "markdown",
   "metadata": {},
   "source": [
    "What is the runtime of this brute force solution?"
   ]
  },
  {
   "cell_type": "markdown",
   "metadata": {
    "deletable": false,
    "nbgrader": {
     "cell_type": "markdown",
     "checksum": "42e3d85f66b00aed0e39141440732162",
     "grade": true,
     "grade_id": "cell-0415d714d32834ed",
     "locked": false,
     "points": 1,
     "schema_version": 3,
     "solution": true,
     "task": false
    }
   },
   "source": [
    "2^N"
   ]
  },
  {
   "cell_type": "markdown",
   "metadata": {},
   "source": [
    "### Exercise 2: Deriving a Dynamic Programming solution\n",
    "When the values and weights are positive integers, and the maximum weight is not too big, we can use DP to solve this problem efficiently.\n",
    "\n",
    "Every item `n` (using 1-indexed notation, so $1 \\leq n \\leq N$) is either contained in the optimal subset, or it is not. Therefore, the maximum value `max_value[n][w]` that can be obtained using the first `n` items with weight capacity `w` is the maximum of\n",
    "* `max_value[n-1][w]` (we *didnt't* choose item `n`)\n",
    "* `max_value[n-1][w - weights[n-1]] + values[n-1]` (we *do* choose item `n`).\n",
    "\n",
    "The following observations can be made:\n",
    "* Obviously, if item `n` weighs more than what the knapsack can hold, we can't include it;\n",
    "* `max_value[0][w] = 0` for all `w` (we take zero items);\n",
    "* `max_value[n][0] = 0` for all `k` (we can't fit any items in a bag with no space);\n",
    "* After building the `max_value` table, `max_value[N][W]` will contain our answer.\n",
    "\n",
    "Finish the bottom-up DP code below."
   ]
  },
  {
   "cell_type": "code",
   "execution_count": 29,
   "metadata": {
    "deletable": false,
    "nbgrader": {
     "cell_type": "code",
     "checksum": "dd58486bd5d14e1202e7c391c8ebf527",
     "grade": false,
     "grade_id": "cell-c29cd1cda8ab8ffb",
     "locked": false,
     "schema_version": 3,
     "solution": true,
     "task": false
    }
   },
   "outputs": [],
   "source": [
    "def knapsack_dp_table(W, values, weights):\n",
    "    N = len(values)\n",
    "    max_value = [[-1 for _ in range(W+1)] for _ in range(N+1)]\n",
    "    for w in range(W+1):  # We take zero items\n",
    "        max_value[0][w] = 0\n",
    "    for n in range(N+1):  # We can't fit any items in a bag with no space\n",
    "        max_value[n][0] = 0\n",
    "        \n",
    "    # Build the bottom-up DP table\n",
    "    for n in range(1, N+1):  # Consider subsets of the items 1, ..., n only.\n",
    "        for w in range(1, W+1):  # The current weight capacity of the knapsack\n",
    "            if(weights[n-1] > w):\n",
    "                max_value[n][w] = max_value[n-1][w]\n",
    "            else:\n",
    "                max_value[n][w] = max(max_value[n-1][w], max_value[n-1][w- weights[n-1]] + values[n-1])\n",
    "    return max_value\n",
    "\n",
    "def knapsack_dp(W, values, weights):\n",
    "    return knapsack_dp_table(W, values, weights)[-1][W]"
   ]
  },
  {
   "cell_type": "code",
   "execution_count": 30,
   "metadata": {
    "deletable": false,
    "editable": false,
    "nbgrader": {
     "cell_type": "code",
     "checksum": "89fc9a72c15cb7994e031a2e564c7fc6",
     "grade": true,
     "grade_id": "cell-432fa1ecf458b861",
     "locked": true,
     "points": 1,
     "schema_version": 3,
     "solution": false,
     "task": false
    }
   },
   "outputs": [],
   "source": [
    "assert knapsack_dp(5, [1, 10, 100], [5, 5, 5]) == 100\n",
    "assert knapsack_dp(6, [5, 4, 3, 2], [4, 3, 2, 1]) == 9, \"Are you sure you never go over the weight capacity of the knapsack?\"\n",
    "assert knapsack_dp(50, [60, 100, 120], [10, 20, 30]) == 220\n",
    "assert knapsack_dp(10, [10, 40, 30, 50], [5, 4, 6, 3]) == 90"
   ]
  },
  {
   "cell_type": "markdown",
   "metadata": {},
   "source": [
    "### Note on complexity\n",
    "\n",
    "As you may know, the Knapsack problem is NP-complete. So how did we just find an efficient solution?\n",
    "\n",
    "Note that in our algorithm, we fill a $n \\times W$ array. This is polynomial in $n$ and $W$, but it is not polynomial in the input size of the algorithm. Because it takes only $\\lceil\\log_2(W)\\rceil$ bits to specify $W$, writing the size of the array as $n \\times 2^{\\log_2(W)}$ reveals that our array is really exponential in size (in terms of the size of the input)."
   ]
  },
  {
   "cell_type": "markdown",
   "metadata": {},
   "source": [
    "### Exercise 3: Reconstructing the optimal subset\n",
    "\n",
    "The above code will produce the right solution, and if we did everything right, it will do it in runtime $O(n W)$. However, the algorithm does not keep a record of which subset of items gives the optimal solution. This step, i.e., tracing what choices we made to arrive at an optimal solution is called *backtracing*.\n",
    "\n",
    "For the knapsack problem, the backtracing step is relatively easy. For each item `n` from `N` down to `1`, we check whether removing item `n` from our knapsack yields a solution that is again optimal for `n-1` items, and we add item `n` to the list of items in our optimal subset."
   ]
  },
  {
   "cell_type": "code",
   "execution_count": 53,
   "metadata": {
    "deletable": false,
    "nbgrader": {
     "cell_type": "code",
     "checksum": "48edff9c1aa718256e15cd638e8ae513",
     "grade": false,
     "grade_id": "cell-da66bc27b22f4608",
     "locked": false,
     "schema_version": 3,
     "solution": true,
     "task": false
    }
   },
   "outputs": [],
   "source": [
    "def knapsack_subset(W, values, weights):\n",
    "    N = len(values)\n",
    "    max_value = knapsack_dp_table(W, values, weights)\n",
    "    items = set()  # The list of items we will \n",
    "    w = W  # Our running \"maximum weight on `n` items\".\n",
    "    for n in reversed(range(1, N+1)):\n",
    "        if(max_value[n-1][w - weights[n-1]] + values[n-1] > max_value[n-1][w] and w -weights[n-1] >= 0):\n",
    "            items.add(n)\n",
    "            w = w - weights[n-1]\n",
    "    return items"
   ]
  },
  {
   "cell_type": "code",
   "execution_count": 54,
   "metadata": {
    "deletable": false,
    "editable": false,
    "nbgrader": {
     "cell_type": "code",
     "checksum": "d4392e2760e04614272d7909bb8ede87",
     "grade": true,
     "grade_id": "cell-ee50a006a6d21bad",
     "locked": true,
     "points": 1,
     "schema_version": 3,
     "solution": false,
     "task": false
    }
   },
   "outputs": [],
   "source": [
    "assert knapsack_subset(6, [1, 10, 100], [5, 5, 5]) == set([3])\n",
    "assert knapsack_subset(6, [5, 4, 3, 2], [4, 3, 2, 1]) == set([2,3,4])\n",
    "assert knapsack_subset(52, [60, 100, 120], [10, 20, 30]) == set([2, 3])\n",
    "assert knapsack_subset(10, [10, 40, 30, 50], [5, 4, 6, 3]) == set([2, 4])"
   ]
  },
  {
   "cell_type": "code",
   "execution_count": null,
   "metadata": {},
   "outputs": [],
   "source": []
  }
 ],
 "metadata": {
  "kernelspec": {
   "display_name": "Python 3",
   "language": "python",
   "name": "python3"
  },
  "language_info": {
   "codemirror_mode": {
    "name": "ipython",
    "version": 3
   },
   "file_extension": ".py",
   "mimetype": "text/x-python",
   "name": "python",
   "nbconvert_exporter": "python",
   "pygments_lexer": "ipython3",
   "version": "3.6.9"
  }
 },
 "nbformat": 4,
 "nbformat_minor": 4
}
