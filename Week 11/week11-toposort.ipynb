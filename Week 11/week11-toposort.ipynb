{
 "cells": [
  {
   "cell_type": "markdown",
   "metadata": {},
   "source": [
    "Before you turn this problem in, make sure everything runs as expected. First, **restart the kernel** (in the menubar, select Kernel$\\rightarrow$Restart) and then **run all cells** (in the menubar, select Cell$\\rightarrow$Run All).\n",
    "\n",
    "Make sure you fill in any place that says `YOUR CODE HERE` or \"YOUR ANSWER HERE\", as well as your name and collaborators below:"
   ]
  },
  {
   "cell_type": "code",
   "execution_count": 1,
   "metadata": {},
   "outputs": [],
   "source": [
    "NAME = \"Lars Janssen\""
   ]
  },
  {
   "cell_type": "markdown",
   "metadata": {},
   "source": [
    "---"
   ]
  },
  {
   "cell_type": "markdown",
   "metadata": {},
   "source": [
    "For those not familiar with Python, a quick overview is given [here](https://github.com/palcu/python-for-competitive-programming/blob/master/python-for-competitive-programming.ipynb)."
   ]
  },
  {
   "cell_type": "markdown",
   "metadata": {},
   "source": [
    "# Notebook BAPC week 11: Toposort"
   ]
  },
  {
   "cell_type": "markdown",
   "metadata": {},
   "source": [
    "## A general remark on reading input\n",
    "When reading *large* amounts of data, `input()` is sometimes too slow.\n",
    "A much faster alternative is to `import sys` and later replace all `input()` by `sys.stdin.readline()`. Note that using `readline`, the line will end in a newline character `\\n`; this doesn't matter when using it to read integers, but watch out if you're using it to read strings. See [this link](https://stackoverflow.com/a/58537094/12354474) if you are interested."
   ]
  },
  {
   "cell_type": "markdown",
   "metadata": {},
   "source": [
    "## Prologue: graphs with vertices represented as strings\n",
    "In the lecture of week 4, we briefly commented on examples of graphs where the vertices are not *numbers* from 0 to $V-1$, but rather strings. This week, you will almost certainly come across a problem of this form (for instance [Build Dependencies](https://open.kattis.com/problems/builddeps)). For this problem, the easiest solution will be to store \"adjacency dictionaries\" instead of the normal adjacency lists, like so:"
   ]
  },
  {
   "cell_type": "code",
   "execution_count": 2,
   "metadata": {},
   "outputs": [],
   "source": [
    "# The following code allows us to emulate command line I/O.\n",
    "from io import StringIO\n",
    "from sys import stdin\n",
    "# Overwrite the jupyter input function.\n",
    "def input():\n",
    "    return stdin.readline()\n",
    "\n",
    "# Load the example graph from the Kattis problem \"builddeps\".\n",
    "stdin = StringIO(\"\"\"6\n",
    "gmp:\n",
    "solution: set map queue\n",
    "base:\n",
    "set: base gmp\n",
    "map: base gmp\n",
    "queue: base\n",
    "gmp\"\"\")\n",
    "\n",
    "V = int(input())\n",
    "adj = {}\n",
    "for _ in range(V):\n",
    "    vertex, parents = input().split(\":\")\n",
    "    parents = parents.strip()\n",
    "    if len(parents) == 0:\n",
    "        adj[vertex] = []\n",
    "    else:\n",
    "        adj[vertex] = parents.split(\" \")\n",
    "\n",
    "assert adj == {'gmp' : [], 'solution' : ['set', 'map', 'queue'],\n",
    "               'base' : [], 'set' : ['base', 'gmp'],\n",
    "               'map': ['base', 'gmp'], 'queue' : ['base']}"
   ]
  },
  {
   "cell_type": "markdown",
   "metadata": {},
   "source": [
    "## Exercise 0: Kahn's algorithm\n",
    "A topological sort of a Directed Acyclic Graph (DAG) is an ordering of its vertices, such that for every edge $u \\to v$, the vertex $u$ comes before $v$ in the ordering. There are two popular algorithms for calculating the topological sort of a DAG. Today we will focus on *Kahn's Algorithm*.\n",
    "\n",
    "The code below is Kahn's algorithm as described in the slides."
   ]
  },
  {
   "cell_type": "code",
   "execution_count": 3,
   "metadata": {},
   "outputs": [],
   "source": [
    "def kahn(parents, children):\n",
    "    \"\"\" Performs Kahn's Algorithm given the incoming and outgoing adjlists. \"\"\"\n",
    "    n = len(parents)\n",
    "    assert n == len(children)\n",
    "    num_parents = [len(l) for l in parents]\n",
    "    stack = [i for i in range(n) if num_parents[i] == 0]\n",
    "    toposort = [] # will contain the toposort ordering\n",
    "\n",
    "    while len(stack) > 0:\n",
    "        cur = stack.pop()\n",
    "        toposort.append(cur)\n",
    "        for child in children[cur]:\n",
    "            num_parents[child] -= 1\n",
    "            if num_parents[child] == 0:\n",
    "                stack.append(child)\n",
    "    return toposort"
   ]
  },
  {
   "cell_type": "code",
   "execution_count": 4,
   "metadata": {},
   "outputs": [
    {
     "name": "stdout",
     "output_type": "stream",
     "text": [
      "A toposort for the graph from the lecture is [5, 3, 2, 1, 0, 4]\n"
     ]
    }
   ],
   "source": [
    "def slides_example():\n",
    "    parents = [[1, 2], [3], [3], [], [0, 2, 5], []]\n",
    "    children = [[4], [0], [0, 4], [1, 2], [], [4]]\n",
    "    return parents, children\n",
    "print(\"A toposort for the graph from the lecture is\", kahn(*slides_example()))"
   ]
  },
  {
   "cell_type": "markdown",
   "metadata": {},
   "source": [
    "For the following graph, we can also compute a toposort, but it will be different from the one pictured:\n",
    "<img src=\"https://i1.wp.com/algorithms.tutorialhorizon.com/files/2018/03/Topological-Sort.png?w=750&ssl=1\">"
   ]
  },
  {
   "cell_type": "code",
   "execution_count": 5,
   "metadata": {},
   "outputs": [
    {
     "name": "stdout",
     "output_type": "stream",
     "text": [
      "A toposort for this graph is [7, 6, 3, 5, 4, 2, 1, 0]\n"
     ]
    }
   ],
   "source": [
    "def notebook_example():\n",
    "    parents = [[1], [2, 3], [5], [6], [5, 6], [7], [7], []]\n",
    "    children = [[], [0], [1], [1], [], [2, 4], [3, 4], [5, 6]]\n",
    "    return parents, children\n",
    "print(\"A toposort for this graph is\", kahn(*notebook_example()))"
   ]
  },
  {
   "cell_type": "markdown",
   "metadata": {},
   "source": [
    "## Exercise 1: generating input for Kahn\n",
    "The Kahn algorithm as above requires us to input two adjacency lists: one for incoming edges, and one for outgoing edges. Use the cell below to write a function that produces these two adjacency lists from an edge list."
   ]
  },
  {
   "cell_type": "code",
   "execution_count": 14,
   "metadata": {
    "deletable": false,
    "nbgrader": {
     "cell_type": "code",
     "checksum": "a3330d4a03ca6b13304bb149406b170b",
     "grade": false,
     "grade_id": "cell-2736e3217b0c26b1",
     "locked": false,
     "schema_version": 3,
     "solution": true,
     "task": false
    }
   },
   "outputs": [],
   "source": [
    "def outgoing_to_incoming_adjlist(outgoing_adjlist):\n",
    "    incoming_adjlist = [[] for _ in outgoing_adjlist]\n",
    "    for u, lst in enumerate(outgoing_adjlist):\n",
    "        for v in lst:\n",
    "            incoming_adjlist[v].append(u)\n",
    "    return incoming_adjlist\n",
    "\n",
    "def edgelist_to_adjlists(num_vertices, edgelist):\n",
    "    incoming_adjlist = [[] for _ in range(num_vertices)]\n",
    "    outgoing_adjlist = [[] for _ in range(num_vertices)]\n",
    "    for i in range(len(edgelist)):\n",
    "        incoming_adjlist[edgelist[i][1]].append(edgelist[i][0])\n",
    "        outgoing_adjlist[edgelist[i][0]].append(edgelist[i][1])\n",
    "    return incoming_adjlist, outgoing_adjlist"
   ]
  },
  {
   "cell_type": "code",
   "execution_count": null,
   "metadata": {},
   "outputs": [],
   "source": []
  },
  {
   "cell_type": "code",
   "execution_count": 15,
   "metadata": {
    "deletable": false,
    "editable": false,
    "nbgrader": {
     "cell_type": "code",
     "checksum": "0cf3c5241bb3725144e249693c88a66d",
     "grade": true,
     "grade_id": "cell-9ad284cfdf395e6c",
     "locked": true,
     "points": 1,
     "schema_version": 3,
     "solution": false,
     "task": false
    }
   },
   "outputs": [],
   "source": [
    "def equivalent(adjlist1, adjlist2):\n",
    "    \"\"\" Returns true exactly when two adjacency lists contain the same elements. \"\"\"\n",
    "    return all(set(l1) == set(l2) for (l1, l2) in zip(adjlist1, adjlist2))\n",
    "        \n",
    "# The example from the lecture\n",
    "edgelist = [(3, 1), (3, 2), (1, 0), (2, 0), (0, 4), (2, 4), (5, 4)]\n",
    "parents, children = slides_example()\n",
    "assert equivalent(parents, outgoing_to_incoming_adjlist(children))\n",
    "assert all(equivalent(a, b) for (a,b) in zip([parents, children], edgelist_to_adjlists(len(parents), edgelist)))"
   ]
  },
  {
   "cell_type": "markdown",
   "metadata": {},
   "source": [
    "## Exercise 2: testing if there is only one toposort\n",
    "We have previously seen that in general, a graph will have more than one topological ordering. In the example from the lecture, both nodes 3 and 5 have no incoming edges so both `[5, 3, 2, 1, 0, 4]` and `[3, 5, 2, 1, 0, 4]` are valid toposorts. Finish the function below to determine if a given graph has a unique toposort ordering."
   ]
  },
  {
   "cell_type": "code",
   "execution_count": 16,
   "metadata": {
    "deletable": false,
    "nbgrader": {
     "cell_type": "code",
     "checksum": "c8ddfa2f8098ef10e97d6289aaac524a",
     "grade": false,
     "grade_id": "cell-80b36ecfcda47edc",
     "locked": false,
     "schema_version": 3,
     "solution": true,
     "task": false
    }
   },
   "outputs": [],
   "source": [
    "def has_unique_toposort(parents, children):\n",
    "    dist = [0 for i in range(len(parents))]\n",
    "    for y in range(len(parents)):\n",
    "        for i in range(len(parents)):\n",
    "            if(len(parents[i]) == y and y!= 0):\n",
    "                dist[i] = max(parents[i]) + 1\n",
    "                \n",
    "    for i in range(len(parents)):\n",
    "        if(dist.count(i) > 1):\n",
    "            return False\n",
    "    return True"
   ]
  },
  {
   "cell_type": "code",
   "execution_count": null,
   "metadata": {},
   "outputs": [],
   "source": []
  },
  {
   "cell_type": "code",
   "execution_count": 17,
   "metadata": {
    "deletable": false,
    "editable": false,
    "nbgrader": {
     "cell_type": "code",
     "checksum": "0c36bd5bf0e907081d26041a2eaa865a",
     "grade": true,
     "grade_id": "cell-783b34e7142d2964",
     "locked": true,
     "points": 1,
     "schema_version": 3,
     "solution": false,
     "task": false
    }
   },
   "outputs": [],
   "source": [
    "# Test that the result holds for some example graphs\n",
    "def path_graph(V):  # Connected DAG with E=V-1 edges. It's a path.\n",
    "    parents = [[]] + [[i-1] for i in range(1, V)]\n",
    "    children = [[i+1] for i in range(0, V-1)] + [[]]\n",
    "    return parents, children\n",
    "\n",
    "def full_dag(V):  # Connected DAG with E=V(V-1) edges. It connects a vertex v to all vertices after it.\n",
    "    parents = [list(range(i)) for i in range(V)]\n",
    "    children = [list(range(i+1, V)) for i in range(V)]\n",
    "    return parents, children\n",
    "\n",
    "assert has_unique_toposort(*path_graph(10))\n",
    "assert has_unique_toposort(*full_dag(10))\n",
    "assert not has_unique_toposort(*slides_example())\n",
    "assert not has_unique_toposort(*notebook_example())"
   ]
  },
  {
   "cell_type": "markdown",
   "metadata": {},
   "source": [
    "## Exercise 3: testing if an ordering is a toposort\n",
    "The Kahn algorithm produces an ordering of the vertices. We can use the definition of a toposort directly to check if a vertex ordering is a toposort. The runtime of this solution will be either $\\mathcal O(VE)$ or $\\mathcal O(V^2 E)$, depending on your implementation. Write the `is_toposort` function below, and if you manage, try to come up with a different implementation that runs in *linear time*."
   ]
  },
  {
   "cell_type": "code",
   "execution_count": 18,
   "metadata": {
    "deletable": false,
    "nbgrader": {
     "cell_type": "code",
     "checksum": "cfb3da2871e88d099178e616704b06de",
     "grade": false,
     "grade_id": "cell-47ab4743b5392134",
     "locked": false,
     "schema_version": 3,
     "solution": true,
     "task": false
    }
   },
   "outputs": [],
   "source": [
    "def is_toposort(parents, children, ordering):\n",
    "    sortedlist = [i for i in range(len(ordering))]\n",
    "    if(sorted(ordering) != sortedlist or len(ordering) != len(parents)):\n",
    "        return False\n",
    "    \n",
    "    for i in range(len(parents)):\n",
    "        for y in range(len(parents[i])):\n",
    "            if(ordering.index(parents[i][y]) > ordering.index(i)):\n",
    "                return False\n",
    "    return True"
   ]
  },
  {
   "cell_type": "code",
   "execution_count": null,
   "metadata": {},
   "outputs": [],
   "source": []
  },
  {
   "cell_type": "code",
   "execution_count": 19,
   "metadata": {
    "deletable": false,
    "editable": false,
    "nbgrader": {
     "cell_type": "code",
     "checksum": "27cb813fa3fcaa2ac52795ef833f6cef",
     "grade": true,
     "grade_id": "cell-ce58f91c3d175079",
     "locked": true,
     "points": 1,
     "schema_version": 3,
     "solution": false,
     "task": false
    }
   },
   "outputs": [],
   "source": [
    "# TEST that the implementation is correct with some examples.\n",
    "\n",
    "# Example from the slides\n",
    "parents, children = slides_example()\n",
    "assert is_toposort(parents, children, kahn(parents, children))\n",
    "assert is_toposort(parents, children, [3, 5, 2, 1, 0, 4])\n",
    "assert is_toposort(parents, children, [3, 5, 1, 2, 0, 4])\n",
    "\n",
    "# Example from above\n",
    "parents, children = notebook_example()\n",
    "assert is_toposort(parents, children, [7, 6, 3, 5, 4, 2, 1, 0])\n",
    "assert is_toposort(parents, children, [7, 6, 5, 4, 3, 2, 1, 0])\n",
    "\n",
    "assert not is_toposort(parents, children, [0, 1, 2, 3, 4, 5, 6, 7])\n",
    "assert not is_toposort(parents, children, [0, 0, 0, 0, 0, 0, 0, 0]), \"Did you check duplicate vertices?\"\n",
    "assert not is_toposort(parents, children, []), \"Did you check missing vertices?\""
   ]
  },
  {
   "cell_type": "code",
   "execution_count": 12,
   "metadata": {
    "deletable": false,
    "editable": false,
    "nbgrader": {
     "cell_type": "code",
     "checksum": "044aa8069c712591d7ee3d3d8c74afc7",
     "grade": true,
     "grade_id": "cell-45d7abfd9a0329d7",
     "locked": true,
     "points": 1,
     "schema_version": 3,
     "solution": false,
     "task": false
    }
   },
   "outputs": [],
   "source": [
    "# Test that runtime is not worse than O(V^2 E)\n",
    "from math import log\n",
    "time_P5K = %timeit -r 1 -q -o is_toposort(*path_graph(5000), list(range(5000)))\n",
    "time_P10K = %timeit -r 1 -q -o is_toposort(*path_graph(10000), list(range(10000)))\n",
    "assert log(time_P10K.best/time_P5K.best)/log(2) < 3.2, \"Your algorithm is slower than O(V^3) for the path graph :-(\"\n",
    "\n",
    "time_F400 = %timeit -r 1 -q -o is_toposort(*full_dag(400), list(range(400)))\n",
    "time_F800 = %timeit -r 1 -q -o is_toposort(*full_dag(800), list(range(800)))\n",
    "assert log(time_F800.best/time_F400.best)/log(2) < 4.2, \"Your algorithm is slower than O(V^4) for the full graph :-(\""
   ]
  },
  {
   "cell_type": "code",
   "execution_count": 13,
   "metadata": {
    "deletable": false,
    "editable": false,
    "nbgrader": {
     "cell_type": "code",
     "checksum": "a0e003b694209ce7e73b1313e06c6fd2",
     "grade": true,
     "grade_id": "cell-bc16afe1dc8339c9",
     "locked": true,
     "points": 1,
     "schema_version": 3,
     "solution": false,
     "task": false
    }
   },
   "outputs": [
    {
     "name": "stdout",
     "output_type": "stream",
     "text": [
      "Collecting stopit\n",
      "Installing collected packages: stopit\n",
      "Successfully installed stopit-1.1.2\n"
     ]
    }
   ],
   "source": [
    "# Test that runtime is linear\n",
    "\n",
    "import sys\n",
    "!{sys.executable} -m pip install stopit\n",
    "import stopit\n",
    "\n",
    "with stopit.ThreadingTimeout(3.0) as t:\n",
    "    assert is_toposort(*path_graph(1000000), list(range(1000000)))\n",
    "    assert is_toposort(*full_dag(2000), list(range(2000)))"
   ]
  },
  {
   "cell_type": "code",
   "execution_count": null,
   "metadata": {},
   "outputs": [],
   "source": []
  },
  {
   "cell_type": "code",
   "execution_count": null,
   "metadata": {},
   "outputs": [],
   "source": []
  }
 ],
 "metadata": {
  "kernelspec": {
   "display_name": "Python 3",
   "language": "python",
   "name": "python3"
  },
  "language_info": {
   "codemirror_mode": {
    "name": "ipython",
    "version": 3
   },
   "file_extension": ".py",
   "mimetype": "text/x-python",
   "name": "python",
   "nbconvert_exporter": "python",
   "pygments_lexer": "ipython3",
   "version": "3.6.9"
  }
 },
 "nbformat": 4,
 "nbformat_minor": 4
}
