{
 "cells": [
  {
   "cell_type": "markdown",
   "metadata": {},
   "source": [
    "Before you turn this problem in, make sure everything runs as expected. First, **restart the kernel** (in the menubar, select Kernel$\\rightarrow$Restart) and then **run all cells** (in the menubar, select Cell$\\rightarrow$Run All).\n",
    "\n",
    "Make sure you fill in any place that says `YOUR CODE HERE` or \"YOUR ANSWER HERE\", as well as your name and collaborators below:"
   ]
  },
  {
   "cell_type": "code",
   "execution_count": 1,
   "metadata": {},
   "outputs": [],
   "source": [
    "NAME = \"Lars Janssen\""
   ]
  },
  {
   "cell_type": "markdown",
   "metadata": {},
   "source": [
    "---"
   ]
  },
  {
   "cell_type": "markdown",
   "metadata": {},
   "source": [
    "For those not familiar with Python, a quick overview is given [here](https://github.com/palcu/python-for-competitive-programming/blob/master/python-for-competitive-programming.ipynb)."
   ]
  },
  {
   "cell_type": "markdown",
   "metadata": {},
   "source": [
    "# Notebook BAPC week 8: Maths --- Number theory\n"
   ]
  },
  {
   "cell_type": "code",
   "execution_count": 2,
   "metadata": {
    "deletable": false,
    "editable": false,
    "nbgrader": {
     "cell_type": "code",
     "checksum": "c59fed0b97bb2cc966201c57965118f1",
     "grade": false,
     "grade_id": "cell-a93c9e312f9ec7c7",
     "locked": true,
     "schema_version": 3,
     "solution": false,
     "task": false
    }
   },
   "outputs": [],
   "source": [
    "from io import StringIO\n",
    "from sys import stdin\n",
    "# Overwrite the jupyter input function.\n",
    "def input():\n",
    "    return stdin.readline()"
   ]
  },
  {
   "cell_type": "markdown",
   "metadata": {},
   "source": [
    "## Intro: primality test\n",
    "Sometimes, it is useful to know if a number is prime (see the slides for this week). This can be done by simply testing if it is divisible by any number under its square root:"
   ]
  },
  {
   "cell_type": "code",
   "execution_count": 3,
   "metadata": {
    "deletable": false,
    "editable": false,
    "nbgrader": {
     "cell_type": "code",
     "checksum": "f7a62792094096fe90da55367aa3442b",
     "grade": false,
     "grade_id": "cell-af4b4d34ba027fda",
     "locked": true,
     "schema_version": 3,
     "solution": false,
     "task": false
    }
   },
   "outputs": [],
   "source": [
    "def is_prime(N):\n",
    "    if N <= 1:\n",
    "        return False\n",
    "    i = 2\n",
    "    while i*i <= N:\n",
    "        if N % i == 0:\n",
    "            return False\n",
    "        i += 1\n",
    "    return True"
   ]
  },
  {
   "cell_type": "code",
   "execution_count": 4,
   "metadata": {},
   "outputs": [
    {
     "name": "stdout",
     "output_type": "stream",
     "text": [
      "6.82 µs ± 0 ns per loop (mean ± std. dev. of 1 run, 100000 loops each)\n",
      "3.24 ms ± 0 ns per loop (mean ± std. dev. of 1 run, 100 loops each)\n",
      "1.61 s ± 0 ns per loop (mean ± std. dev. of 1 run, 1 loop each)\n"
     ]
    }
   ],
   "source": [
    "assert is_prime(2)\n",
    "%timeit -r 1 is_prime(8473681421)   # 59 * 131 * 1096349\n",
    "%timeit -r 1 is_prime(10**9+7)      # prime\n",
    "%timeit -r 1 [is_prime(p) for p in range(2, 10**7, 101)]"
   ]
  },
  {
   "cell_type": "markdown",
   "metadata": {},
   "source": [
    "## Exercise 1: Faster primality test\n",
    "A faster primality test is found by only looping over odd numbers. Complete the code below."
   ]
  },
  {
   "cell_type": "code",
   "execution_count": 15,
   "metadata": {
    "deletable": false,
    "nbgrader": {
     "cell_type": "code",
     "checksum": "f52d91a2ed902012c4920d3e277f014f",
     "grade": false,
     "grade_id": "cell-90bd7777b8745cf1",
     "locked": false,
     "schema_version": 3,
     "solution": true,
     "task": false
    }
   },
   "outputs": [],
   "source": [
    "def is_prime_faster(N):\n",
    "    if N <= 1:\n",
    "        return False\n",
    "    i = 3\n",
    "    if N == 2:\n",
    "        return True\n",
    "    if N % 2 == 0:\n",
    "        return False\n",
    "    else:\n",
    "        while i*i <= N:\n",
    "            if N % i == 0:\n",
    "                return False\n",
    "            i += 2\n",
    "    return True"
   ]
  },
  {
   "cell_type": "code",
   "execution_count": 16,
   "metadata": {
    "deletable": false,
    "editable": false,
    "nbgrader": {
     "cell_type": "code",
     "checksum": "1fcc0b709f650d36fc114fb3006a2a34",
     "grade": true,
     "grade_id": "cell-15c1a029a1d7bfac",
     "locked": true,
     "points": 1,
     "schema_version": 3,
     "solution": false,
     "task": false
    }
   },
   "outputs": [
    {
     "name": "stdout",
     "output_type": "stream",
     "text": [
      "1.54 s ± 0 ns per loop (mean ± std. dev. of 1 run, 1 loop each)\n",
      "776 ms ± 0 ns per loop (mean ± std. dev. of 1 run, 1 loop each)\n"
     ]
    }
   ],
   "source": [
    "# TEST that `is_prime_faster` gives the same result\n",
    "assert is_prime_faster(38) == False, \"Don't forget to deal with even numbers.\"\n",
    "assert is_prime_faster(2) == True, \"Don't forget the special case 2!\"\n",
    "assert is_prime_faster(8473681421) == False\n",
    "assert is_prime_faster(10**9+7) == True\n",
    "assert is_prime_faster(37**2) == False, \"Does your program work for squares of prime numbers?\"\n",
    "assert all(is_prime_faster(p) == is_prime(p) for p in range(1, 10**5))\n",
    "\n",
    "# TEST that it is at least 1.5 times faster\n",
    "timing_slower = %timeit -r 1 -o [is_prime(p) for p in range(2, 10**7, 101)]\n",
    "timing_faster = %timeit -r 1 -o [is_prime_faster(p) for p in range(2, 10**7, 101)]\n",
    "assert timing_slower.best/timing_faster.best > 1.5, \"Your program isn't much faster. Did you skip all even numbers?\""
   ]
  },
  {
   "cell_type": "markdown",
   "metadata": {},
   "source": [
    "## Exercise 2: Sieve of Eratosthenes\n",
    "Sometimes we need to check the primality of a lot of numbers. We saw in the previous codeblock that it takes upwards of 100ms to check all numbers $\\{1, \\ldots, 10^5\\}$ for primality, and we would like to do this faster.\n",
    "\n",
    "We can generate a list of prime numbers using the sieve of Eratosthenes.\n",
    "\n",
    "In the code below, finish the sieve of Eratosthenes and verify your implementation. How much speedup did we achieve versus repeated calls to `is_prime_faster`?"
   ]
  },
  {
   "cell_type": "code",
   "execution_count": 22,
   "metadata": {
    "deletable": false,
    "nbgrader": {
     "cell_type": "code",
     "checksum": "441b86e26b676e2f35c0436c2a9e2123",
     "grade": false,
     "grade_id": "cell-31984e5e15b72f73",
     "locked": false,
     "schema_version": 3,
     "solution": true,
     "task": false
    }
   },
   "outputs": [],
   "source": [
    "def sieve(max_N):\n",
    "    P = [True for _ in range(max_N+1)]\n",
    "    P[0] = P[1] = False\n",
    "    for i in range(2, max_N+1):\n",
    "        if i*i >= max_N:\n",
    "            break\n",
    "        if P[i]:\n",
    "            y = 2 * i\n",
    "            while(y < max_N+1):\n",
    "                P[y] = False\n",
    "                y = y + i\n",
    "    return P"
   ]
  },
  {
   "cell_type": "code",
   "execution_count": 23,
   "metadata": {},
   "outputs": [
    {
     "name": "stdout",
     "output_type": "stream",
     "text": [
      "977 ms ± 0 ns per loop (mean ± std. dev. of 1 run, 1 loop each)\n",
      "49.7 ms ± 0 ns per loop (mean ± std. dev. of 1 run, 10 loops each)\n"
     ]
    }
   ],
   "source": [
    "# TEST that the sieve correctly classifies all numbers.\n",
    "assert all(is_prime(i) == Pi for (i, Pi) in enumerate(sieve(10**5)))\n",
    "\n",
    "# TEST that the sieve is indeed much faster when testing a large number of samples.\n",
    "timing_allprimes = %timeit -r 1 -o [is_prime(p) for p in range(3 * 10**5)]\n",
    "timing_sieve = %timeit -r 1 -o sieve(3 * 10**5)\n",
    "assert timing_allprimes.best/timing_sieve.best > 10"
   ]
  },
  {
   "cell_type": "markdown",
   "metadata": {},
   "source": [
    "## Exercise 3: Prime factorization of a number\n",
    "We know that a prime number is only divided by 1 and itself. A composite number $N$ can be written uniquely as a multiplication of its prime factors. A naive algorithm generates a list of primes, and checks which primes actually divide $N$ (and how often).\n",
    "\n",
    "A better algorithm uses *divide and conquer*: a composite integer $N$ can be written as $N = P * K$ with $P$ a prime factor and $K = N/P$ is another --possibly composite-- number. We can reduce the size of $N$ by taking out a prime factor $P$, and repeat this until $N == 1$.\n",
    "\n",
    "Look at the code below to generate prime factors of a number $N$."
   ]
  },
  {
   "cell_type": "code",
   "execution_count": 24,
   "metadata": {},
   "outputs": [],
   "source": [
    "def prime_factors(N):\n",
    "    factors = [] # List of tuples (prime, order)\n",
    "    if N <= 1:\n",
    "        return []\n",
    "    prime = 1\n",
    "    while N > 1 and prime*prime <= N:  \n",
    "        prime += 1 \n",
    "        order = 0\n",
    "        while N % prime == 0:\n",
    "            N //= prime\n",
    "            order += 1\n",
    "        if order > 0:\n",
    "            factors.append((prime, order))\n",
    "\n",
    "    if N != 1:\n",
    "        factors.append((N, 1))\n",
    "    return factors"
   ]
  },
  {
   "cell_type": "code",
   "execution_count": 25,
   "metadata": {},
   "outputs": [],
   "source": [
    "from functools import reduce\n",
    "import operator\n",
    "\n",
    "# TEST that the prime factorization works for some selected numbers\n",
    "assert prime_factors(8473681421) == [(59, 1), (131, 1), (1096349, 1)]\n",
    "assert prime_factors(10**9 + 7) == [(10**9 + 7, 1)]\n",
    "\n",
    "# TEST that it works for all numbers from 1 to 10**5.\n",
    "assert all(number == reduce(operator.mul, [a**b for (a,b) in prime_factors(number)], 1)\n",
    "           for number in range(1, 10**5))"
   ]
  },
  {
   "cell_type": "markdown",
   "metadata": {},
   "source": [
    "The *radical* of a positive integer $n$ is defined as the product of the distinct prime numbers dividing $n$:\n",
    "$$\n",
    "\\text{rad}(n) := \\prod_{p | n, ~~ p \\text{ prime}} p.\n",
    "$$\n",
    "Use the cell below to write a function that determines the radical of a given integer. You can use the prime_factors function."
   ]
  },
  {
   "cell_type": "code",
   "execution_count": 40,
   "metadata": {
    "deletable": false,
    "nbgrader": {
     "cell_type": "code",
     "checksum": "a3f3c915b124fbfd4da00228b9fc341d",
     "grade": false,
     "grade_id": "cell-2d16f1634c6760f6",
     "locked": false,
     "schema_version": 3,
     "solution": true,
     "task": false
    }
   },
   "outputs": [],
   "source": [
    "def radical(n):\n",
    "    factors = prime_factors(n)\n",
    "    radical = 1\n",
    "    for i in range(len(factors)):\n",
    "        newfactor = factors[i][0]\n",
    "        radical *= newfactor\n",
    "    return radical"
   ]
  },
  {
   "cell_type": "code",
   "execution_count": 41,
   "metadata": {
    "deletable": false,
    "editable": false,
    "nbgrader": {
     "cell_type": "code",
     "checksum": "daf3d1e3cdea1b1de5e870478e224652",
     "grade": true,
     "grade_id": "cell-510635def9e98f04",
     "locked": true,
     "points": 1,
     "schema_version": 3,
     "solution": false,
     "task": false
    }
   },
   "outputs": [],
   "source": [
    "# TEST that the prime factorization works for some selected numbers\n",
    "assert radical(1) == 1\n",
    "assert radical(504) == 42, \"See https://en.wikipedia.org/wiki/Radical_of_an_integer\"\n",
    "assert radical(8473681421) == 59 * 131 * 1096349\n",
    "assert radical(10**9 + 7) == 10**9 + 7\n",
    "\n",
    "# HIDDEN TEST that it works for all numbers from 2 to 10**5 and is reasonably fast."
   ]
  },
  {
   "cell_type": "markdown",
   "metadata": {},
   "source": [
    "## Exercise 4: The modulo operator `%`\n",
    "(a) Verify the following equalities for a range of different values of `a`, `b`, and `m`:\n",
    "- `(a+b) % m == ((a%m) + (b%m)) % m`\n",
    "- `(a*b) % m == ((a%m) * (b%m)) % m`\n",
    "- `(a**b) % m == pow(a, b, m)`\n",
    "\n",
    "(b) Use `%timeit` to compare the timing results of `(a**b) % m` with `pow(a, b, m)` for `a = 9`, `b = 10000`, `m = 107`."
   ]
  },
  {
   "cell_type": "code",
   "execution_count": 47,
   "metadata": {
    "deletable": false,
    "nbgrader": {
     "cell_type": "code",
     "checksum": "ddb3edfd27a96e8c59298a081e5362cd",
     "grade": true,
     "grade_id": "cell-c696378d19a0e85c",
     "locked": false,
     "points": 1,
     "schema_version": 3,
     "solution": true,
     "task": false
    }
   },
   "outputs": [
    {
     "name": "stdout",
     "output_type": "stream",
     "text": [
      "142 µs ± 0 ns per loop (mean ± std. dev. of 1 run, 10000 loops each)\n",
      "683 ns ± 0 ns per loop (mean ± std. dev. of 1 run, 1000000 loops each)\n"
     ]
    }
   ],
   "source": [
    "a = 192\n",
    "b = 2398\n",
    "m = 43\n",
    "assert ((a+b) % m == ((a%m) + (b%m)) % m)\n",
    "assert((a*b) % m == ((a%m) * (b%m)) % m)\n",
    "assert((a**b) % m == pow(a, b, m))\n",
    "a = 438594\n",
    "b = 2875\n",
    "m = 3\n",
    "assert ((a+b) % m == ((a%m) + (b%m)) % m)\n",
    "assert((a*b) % m == ((a%m) * (b%m)) % m)\n",
    "assert((a**b) % m == pow(a, b, m))\n",
    "\n",
    "a = 9\n",
    "b = 10000\n",
    "m =107\n",
    "%timeit -r 1 ((a**b) % m)\n",
    "%timeit -r 1 (pow(a, b, m))"
   ]
  },
  {
   "cell_type": "markdown",
   "metadata": {},
   "source": [
    "## Extra 1: GCD and Extended Euclidean\n",
    "\n",
    "The usual way of computing the GCD of two numbers is using Euclideans algorithm. It is built-in in **Python 3**, accessible via `math.gcd(a,b)`.\n",
    "\n",
    "Sometimes it is not just the GCD of `a` and `b` that we want, but also the coefficients of Bezout's identity, i.e., the values $x$ and $y$ in\n",
    "$$\n",
    "  ax + by = \\gcd(a,b).\n",
    "$$"
   ]
  },
  {
   "cell_type": "code",
   "execution_count": 48,
   "metadata": {},
   "outputs": [
    {
     "name": "stdout",
     "output_type": "stream",
     "text": [
      "(1, -22973, 267)\n"
     ]
    }
   ],
   "source": [
    "def ext_gcd(a, b):\n",
    "    if a == 0:\n",
    "        return (b, 0, 1)\n",
    "    gcd, x, y = ext_gcd(b % a, a)\n",
    "    return gcd, y - (b//a) * x, x\n",
    "print(ext_gcd(1432,123211))"
   ]
  },
  {
   "cell_type": "markdown",
   "metadata": {},
   "source": [
    "## Extra 2: Modular inverse\n",
    "Extended Euclidean is particularly useful when $a$ and $b$ are coprime (i.e., $\\gcd(a,b) = 1$). In this case, the equality reduces to\n",
    "$$\n",
    "  ax + by = 1 \\implies ax = 1 + by = 1\\mod b;\n",
    "$$\n",
    "we call $x$ the `modular inverse` of $a$. The reason is that multiplying by $x$ is like multiplying by $1/a$: if $an = m$ then $n = mx$. Then you can not just add, subtract, and multiply easily modulo $b$, but you can also easily divide (by $a$)."
   ]
  },
  {
   "cell_type": "code",
   "execution_count": 49,
   "metadata": {},
   "outputs": [
    {
     "name": "stdout",
     "output_type": "stream",
     "text": [
      "True\n"
     ]
    }
   ],
   "source": [
    "def modular_inverse(a, b):\n",
    "    # Returns a positive modular inverse of `a` mod `b`.\n",
    "    gcd, x, y = ext_gcd(a, b)\n",
    "    assert gcd == 1\n",
    "    return (x % b + b) % b\n",
    "mod_inv = modular_inverse(1432,123211)  # = 100238\n",
    "print(1 == 1432 * mod_inv % 123211)"
   ]
  },
  {
   "cell_type": "code",
   "execution_count": null,
   "metadata": {},
   "outputs": [],
   "source": []
  }
 ],
 "metadata": {
  "kernelspec": {
   "display_name": "Python 3",
   "language": "python",
   "name": "python3"
  },
  "language_info": {
   "codemirror_mode": {
    "name": "ipython",
    "version": 3
   },
   "file_extension": ".py",
   "mimetype": "text/x-python",
   "name": "python",
   "nbconvert_exporter": "python",
   "pygments_lexer": "ipython3",
   "version": "3.6.9"
  }
 },
 "nbformat": 4,
 "nbformat_minor": 2
}
